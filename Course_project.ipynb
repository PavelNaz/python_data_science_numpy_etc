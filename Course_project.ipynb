{
 "cells": [
  {
   "cell_type": "code",
   "execution_count": 1,
   "metadata": {},
   "outputs": [],
   "source": [
    "import numpy as np\n",
    "import pandas as pd\n",
    "import random\n",
    "from scipy.stats import norm\n",
    "from scipy import stats\n",
    "\n",
    "from sklearn.model_selection import train_test_split, cross_val_score\n",
    "from sklearn.preprocessing import StandardScaler, RobustScaler, MinMaxScaler\n",
    "from sklearn.ensemble import RandomForestRegressor, StackingRegressor, VotingRegressor, BaggingRegressor, GradientBoostingRegressor\n",
    "\n",
    "from sklearn.metrics import r2_score as r2\n",
    "from sklearn.model_selection import KFold, GridSearchCV\n",
    "\n",
    "from datetime import datetime\n",
    "\n",
    "import matplotlib\n",
    "import matplotlib.pyplot as plt\n",
    "import seaborn as sns\n",
    "\n",
    "import warnings\n",
    "warnings.filterwarnings('ignore')\n",
    "\n",
    "\n",
    "# %matplotlib inline\n",
    "# %config InlineBackend.figure_format = 'svg'\n",
    "\n",
    "matplotlib.rcParams.update({'font.size': 14})"
   ]
  },
  {
   "cell_type": "code",
   "execution_count": 2,
   "metadata": {},
   "outputs": [],
   "source": [
    "def feature_distribution(feature, bins_val=50):\n",
    "    feature_mean = round(df[feature].mean(), 2)\n",
    "    feature_median = df[feature].median()\n",
    "    feature_mode = df[feature].mode()[0]\n",
    "\n",
    "    plt.figure(figsize = (12, 6))\n",
    "\n",
    "    sns.distplot(df[feature], bins=bins_val)\n",
    "\n",
    "    y = np.linspace(0, 0.000007, 10)\n",
    "    plt.plot([feature_mean] * 10, y, label='mean',  linewidth=4)\n",
    "    plt.plot([feature_median] * 10, y, label='median',  linewidth=4)\n",
    "    plt.plot([feature_mode] * 10, y, label='mode', linewidth=4)\n",
    "\n",
    "    plt.title('Distribution of ' + feature)\n",
    "    plt.legend(loc='upper right')\n",
    "    plt.show()\n",
    "    print(f\"\\tMean= {feature_mean}    Median= {feature_median}    Mode= {feature_mode}\")\n",
    "    return"
   ]
  },
  {
   "cell_type": "code",
   "execution_count": 3,
   "metadata": {},
   "outputs": [],
   "source": [
    "def feature_label(feature, label):\n",
    "    \"\"\" Функция создания метки, где параметры: \n",
    "        feature - признак, а label -метка\"\"\"\n",
    "\n",
    "    feature = feature + '_' + label\n",
    "    if not feature in set(df.columns):\n",
    "        # print(f'Новый признак: {feature}')\n",
    "        df[feature] = 0\n",
    "        df[feature] = df[feature].astype(np.int8)\n",
    "    return"
   ]
  },
  {
   "cell_type": "code",
   "execution_count": 4,
   "metadata": {},
   "outputs": [],
   "source": [
    "def evaluate_preds(train_true_values, train_pred_values, test_true_values, test_pred_values):\n",
    "    print(\"Train R2:\\t\" + str(round(r2(train_true_values, train_pred_values), 3)))\n",
    "    print(\"Test R2:\\t\" + str(round(r2(test_true_values, test_pred_values), 3)))\n",
    "    \n",
    "    plt.figure(figsize=(18,10))\n",
    "    \n",
    "    plt.subplot(121)\n",
    "    sns.scatterplot(x=train_pred_values, y=train_true_values)\n",
    "    plt.xlabel('Predicted values')\n",
    "    plt.ylabel('True values')\n",
    "    plt.title('Train sample prediction')\n",
    "    \n",
    "    plt.subplot(122)\n",
    "    sns.scatterplot(x=test_pred_values, y=test_true_values)\n",
    "    plt.xlabel('Predicted values')\n",
    "    plt.ylabel('True values')\n",
    "    plt.title('Test sample prediction')\n",
    "\n",
    "    plt.show()"
   ]
  },
  {
   "cell_type": "code",
   "execution_count": 5,
   "metadata": {},
   "outputs": [],
   "source": [
    "TRAIN_DATASET_PATH = ('C:\\\\Users\\\\4а\\\\train.csv')\n",
    "TEST_DATASET_PATH = ('C:\\\\Users\\\\4а\\\\test.csv')"
   ]
  },
  {
   "cell_type": "markdown",
   "metadata": {},
   "source": [
    "# Загрузка данных #\n",
    "\n",
    "Описание датасета\n",
    "\n",
    "Id - идентификационный номер квартиры\n",
    "\n",
    "DistrictId - идентификационный номер района\n",
    "\n",
    "Rooms - комнаты\n",
    "\n",
    "Square - площадь\n",
    "\n",
    "LifeSquare - жилая площадь\n",
    "\n",
    "KitchenSquare - площадь кухни\n",
    "\n",
    "Floor - этаж\n",
    "\n",
    "HouseFloor - количество этажей в доме\n",
    "\n",
    "HouseYear - год постройки дома\n",
    "\n",
    "Ecology_1, Ecology_2, Ecology_3 - экологические показатели\n",
    "\n",
    "Social_1, Social_2, Social_3 - социальные показатели\n",
    "\n",
    "Healthcare_1, Helthcare_2 - показатели местности (охрана здоровья)\n",
    "\n",
    "Shops_1, Shops_2 - наличие магазинов, торговых центров\n",
    "\n",
    "Price - цена квартиры - (целевой признак)"
   ]
  },
  {
   "cell_type": "code",
   "execution_count": 6,
   "metadata": {},
   "outputs": [
    {
     "data": {
      "text/html": [
       "<div>\n",
       "<style scoped>\n",
       "    .dataframe tbody tr th:only-of-type {\n",
       "        vertical-align: middle;\n",
       "    }\n",
       "\n",
       "    .dataframe tbody tr th {\n",
       "        vertical-align: top;\n",
       "    }\n",
       "\n",
       "    .dataframe thead th {\n",
       "        text-align: right;\n",
       "    }\n",
       "</style>\n",
       "<table border=\"1\" class=\"dataframe\">\n",
       "  <thead>\n",
       "    <tr style=\"text-align: right;\">\n",
       "      <th></th>\n",
       "      <th>Id</th>\n",
       "      <th>DistrictId</th>\n",
       "      <th>Rooms</th>\n",
       "      <th>Square</th>\n",
       "      <th>LifeSquare</th>\n",
       "      <th>KitchenSquare</th>\n",
       "      <th>Floor</th>\n",
       "      <th>HouseFloor</th>\n",
       "      <th>HouseYear</th>\n",
       "      <th>Ecology_1</th>\n",
       "      <th>Ecology_2</th>\n",
       "      <th>Ecology_3</th>\n",
       "      <th>Social_1</th>\n",
       "      <th>Social_2</th>\n",
       "      <th>Social_3</th>\n",
       "      <th>Healthcare_1</th>\n",
       "      <th>Helthcare_2</th>\n",
       "      <th>Shops_1</th>\n",
       "      <th>Shops_2</th>\n",
       "      <th>Price</th>\n",
       "    </tr>\n",
       "  </thead>\n",
       "  <tbody>\n",
       "    <tr>\n",
       "      <th>0</th>\n",
       "      <td>11809</td>\n",
       "      <td>27</td>\n",
       "      <td>3.0</td>\n",
       "      <td>115.027311</td>\n",
       "      <td>NaN</td>\n",
       "      <td>10.0</td>\n",
       "      <td>4</td>\n",
       "      <td>10.0</td>\n",
       "      <td>2014</td>\n",
       "      <td>0.075424</td>\n",
       "      <td>B</td>\n",
       "      <td>B</td>\n",
       "      <td>11</td>\n",
       "      <td>3097</td>\n",
       "      <td>0</td>\n",
       "      <td>NaN</td>\n",
       "      <td>0</td>\n",
       "      <td>0</td>\n",
       "      <td>B</td>\n",
       "      <td>305018.871089</td>\n",
       "    </tr>\n",
       "    <tr>\n",
       "      <th>1</th>\n",
       "      <td>3013</td>\n",
       "      <td>22</td>\n",
       "      <td>1.0</td>\n",
       "      <td>39.832524</td>\n",
       "      <td>23.169223</td>\n",
       "      <td>8.0</td>\n",
       "      <td>7</td>\n",
       "      <td>8.0</td>\n",
       "      <td>1966</td>\n",
       "      <td>0.118537</td>\n",
       "      <td>B</td>\n",
       "      <td>B</td>\n",
       "      <td>30</td>\n",
       "      <td>6207</td>\n",
       "      <td>1</td>\n",
       "      <td>1183.0</td>\n",
       "      <td>1</td>\n",
       "      <td>0</td>\n",
       "      <td>B</td>\n",
       "      <td>177734.553407</td>\n",
       "    </tr>\n",
       "    <tr>\n",
       "      <th>2</th>\n",
       "      <td>8215</td>\n",
       "      <td>1</td>\n",
       "      <td>3.0</td>\n",
       "      <td>78.342215</td>\n",
       "      <td>47.671972</td>\n",
       "      <td>10.0</td>\n",
       "      <td>2</td>\n",
       "      <td>17.0</td>\n",
       "      <td>1988</td>\n",
       "      <td>0.025609</td>\n",
       "      <td>B</td>\n",
       "      <td>B</td>\n",
       "      <td>33</td>\n",
       "      <td>5261</td>\n",
       "      <td>0</td>\n",
       "      <td>240.0</td>\n",
       "      <td>3</td>\n",
       "      <td>1</td>\n",
       "      <td>B</td>\n",
       "      <td>282078.720850</td>\n",
       "    </tr>\n",
       "    <tr>\n",
       "      <th>3</th>\n",
       "      <td>2352</td>\n",
       "      <td>1</td>\n",
       "      <td>1.0</td>\n",
       "      <td>40.409907</td>\n",
       "      <td>NaN</td>\n",
       "      <td>1.0</td>\n",
       "      <td>10</td>\n",
       "      <td>22.0</td>\n",
       "      <td>1977</td>\n",
       "      <td>0.007122</td>\n",
       "      <td>B</td>\n",
       "      <td>B</td>\n",
       "      <td>1</td>\n",
       "      <td>264</td>\n",
       "      <td>0</td>\n",
       "      <td>NaN</td>\n",
       "      <td>0</td>\n",
       "      <td>1</td>\n",
       "      <td>B</td>\n",
       "      <td>168106.007630</td>\n",
       "    </tr>\n",
       "    <tr>\n",
       "      <th>4</th>\n",
       "      <td>13866</td>\n",
       "      <td>94</td>\n",
       "      <td>2.0</td>\n",
       "      <td>64.285067</td>\n",
       "      <td>38.562517</td>\n",
       "      <td>9.0</td>\n",
       "      <td>16</td>\n",
       "      <td>16.0</td>\n",
       "      <td>1972</td>\n",
       "      <td>0.282798</td>\n",
       "      <td>B</td>\n",
       "      <td>B</td>\n",
       "      <td>33</td>\n",
       "      <td>8667</td>\n",
       "      <td>2</td>\n",
       "      <td>NaN</td>\n",
       "      <td>0</td>\n",
       "      <td>6</td>\n",
       "      <td>B</td>\n",
       "      <td>343995.102962</td>\n",
       "    </tr>\n",
       "  </tbody>\n",
       "</table>\n",
       "</div>"
      ],
      "text/plain": [
       "      Id  DistrictId  Rooms      Square  LifeSquare  KitchenSquare  Floor  \\\n",
       "0  11809          27    3.0  115.027311         NaN           10.0      4   \n",
       "1   3013          22    1.0   39.832524   23.169223            8.0      7   \n",
       "2   8215           1    3.0   78.342215   47.671972           10.0      2   \n",
       "3   2352           1    1.0   40.409907         NaN            1.0     10   \n",
       "4  13866          94    2.0   64.285067   38.562517            9.0     16   \n",
       "\n",
       "   HouseFloor  HouseYear  Ecology_1 Ecology_2 Ecology_3  Social_1  Social_2  \\\n",
       "0        10.0       2014   0.075424         B         B        11      3097   \n",
       "1         8.0       1966   0.118537         B         B        30      6207   \n",
       "2        17.0       1988   0.025609         B         B        33      5261   \n",
       "3        22.0       1977   0.007122         B         B         1       264   \n",
       "4        16.0       1972   0.282798         B         B        33      8667   \n",
       "\n",
       "   Social_3  Healthcare_1  Helthcare_2  Shops_1 Shops_2          Price  \n",
       "0         0           NaN            0        0       B  305018.871089  \n",
       "1         1        1183.0            1        0       B  177734.553407  \n",
       "2         0         240.0            3        1       B  282078.720850  \n",
       "3         0           NaN            0        1       B  168106.007630  \n",
       "4         2           NaN            0        6       B  343995.102962  "
      ]
     },
     "execution_count": 6,
     "metadata": {},
     "output_type": "execute_result"
    }
   ],
   "source": [
    "df = pd.read_csv(TRAIN_DATASET_PATH)\n",
    "df.head()"
   ]
  },
  {
   "cell_type": "code",
   "execution_count": 7,
   "metadata": {},
   "outputs": [
    {
     "data": {
      "text/html": [
       "<div>\n",
       "<style scoped>\n",
       "    .dataframe tbody tr th:only-of-type {\n",
       "        vertical-align: middle;\n",
       "    }\n",
       "\n",
       "    .dataframe tbody tr th {\n",
       "        vertical-align: top;\n",
       "    }\n",
       "\n",
       "    .dataframe thead th {\n",
       "        text-align: right;\n",
       "    }\n",
       "</style>\n",
       "<table border=\"1\" class=\"dataframe\">\n",
       "  <thead>\n",
       "    <tr style=\"text-align: right;\">\n",
       "      <th></th>\n",
       "      <th>Id</th>\n",
       "      <th>DistrictId</th>\n",
       "      <th>Rooms</th>\n",
       "      <th>Square</th>\n",
       "      <th>LifeSquare</th>\n",
       "      <th>KitchenSquare</th>\n",
       "      <th>Floor</th>\n",
       "      <th>HouseFloor</th>\n",
       "      <th>HouseYear</th>\n",
       "      <th>Ecology_1</th>\n",
       "      <th>Ecology_2</th>\n",
       "      <th>Ecology_3</th>\n",
       "      <th>Social_1</th>\n",
       "      <th>Social_2</th>\n",
       "      <th>Social_3</th>\n",
       "      <th>Healthcare_1</th>\n",
       "      <th>Helthcare_2</th>\n",
       "      <th>Shops_1</th>\n",
       "      <th>Shops_2</th>\n",
       "    </tr>\n",
       "  </thead>\n",
       "  <tbody>\n",
       "    <tr>\n",
       "      <th>0</th>\n",
       "      <td>4567</td>\n",
       "      <td>44</td>\n",
       "      <td>1.0</td>\n",
       "      <td>36.847630</td>\n",
       "      <td>19.094182</td>\n",
       "      <td>5.0</td>\n",
       "      <td>5</td>\n",
       "      <td>9.0</td>\n",
       "      <td>1970</td>\n",
       "      <td>0.036122</td>\n",
       "      <td>B</td>\n",
       "      <td>B</td>\n",
       "      <td>24</td>\n",
       "      <td>4378</td>\n",
       "      <td>0</td>\n",
       "      <td>1036.0</td>\n",
       "      <td>1</td>\n",
       "      <td>1</td>\n",
       "      <td>B</td>\n",
       "    </tr>\n",
       "    <tr>\n",
       "      <th>1</th>\n",
       "      <td>5925</td>\n",
       "      <td>62</td>\n",
       "      <td>1.0</td>\n",
       "      <td>42.493907</td>\n",
       "      <td>42.568133</td>\n",
       "      <td>10.0</td>\n",
       "      <td>7</td>\n",
       "      <td>17.0</td>\n",
       "      <td>2017</td>\n",
       "      <td>0.072158</td>\n",
       "      <td>B</td>\n",
       "      <td>B</td>\n",
       "      <td>2</td>\n",
       "      <td>629</td>\n",
       "      <td>1</td>\n",
       "      <td>NaN</td>\n",
       "      <td>0</td>\n",
       "      <td>0</td>\n",
       "      <td>A</td>\n",
       "    </tr>\n",
       "    <tr>\n",
       "      <th>2</th>\n",
       "      <td>960</td>\n",
       "      <td>27</td>\n",
       "      <td>2.0</td>\n",
       "      <td>59.463678</td>\n",
       "      <td>NaN</td>\n",
       "      <td>9.0</td>\n",
       "      <td>19</td>\n",
       "      <td>19.0</td>\n",
       "      <td>1977</td>\n",
       "      <td>0.211401</td>\n",
       "      <td>B</td>\n",
       "      <td>B</td>\n",
       "      <td>9</td>\n",
       "      <td>1892</td>\n",
       "      <td>0</td>\n",
       "      <td>NaN</td>\n",
       "      <td>0</td>\n",
       "      <td>1</td>\n",
       "      <td>B</td>\n",
       "    </tr>\n",
       "    <tr>\n",
       "      <th>3</th>\n",
       "      <td>3848</td>\n",
       "      <td>23</td>\n",
       "      <td>3.0</td>\n",
       "      <td>49.646030</td>\n",
       "      <td>33.893825</td>\n",
       "      <td>6.0</td>\n",
       "      <td>2</td>\n",
       "      <td>2.0</td>\n",
       "      <td>1965</td>\n",
       "      <td>0.014073</td>\n",
       "      <td>B</td>\n",
       "      <td>B</td>\n",
       "      <td>2</td>\n",
       "      <td>475</td>\n",
       "      <td>0</td>\n",
       "      <td>NaN</td>\n",
       "      <td>0</td>\n",
       "      <td>0</td>\n",
       "      <td>B</td>\n",
       "    </tr>\n",
       "    <tr>\n",
       "      <th>4</th>\n",
       "      <td>746</td>\n",
       "      <td>74</td>\n",
       "      <td>1.0</td>\n",
       "      <td>53.837056</td>\n",
       "      <td>NaN</td>\n",
       "      <td>1.0</td>\n",
       "      <td>8</td>\n",
       "      <td>17.0</td>\n",
       "      <td>1977</td>\n",
       "      <td>0.309479</td>\n",
       "      <td>B</td>\n",
       "      <td>B</td>\n",
       "      <td>35</td>\n",
       "      <td>7715</td>\n",
       "      <td>4</td>\n",
       "      <td>990.0</td>\n",
       "      <td>0</td>\n",
       "      <td>6</td>\n",
       "      <td>B</td>\n",
       "    </tr>\n",
       "  </tbody>\n",
       "</table>\n",
       "</div>"
      ],
      "text/plain": [
       "     Id  DistrictId  Rooms     Square  LifeSquare  KitchenSquare  Floor  \\\n",
       "0  4567          44    1.0  36.847630   19.094182            5.0      5   \n",
       "1  5925          62    1.0  42.493907   42.568133           10.0      7   \n",
       "2   960          27    2.0  59.463678         NaN            9.0     19   \n",
       "3  3848          23    3.0  49.646030   33.893825            6.0      2   \n",
       "4   746          74    1.0  53.837056         NaN            1.0      8   \n",
       "\n",
       "   HouseFloor  HouseYear  Ecology_1 Ecology_2 Ecology_3  Social_1  Social_2  \\\n",
       "0         9.0       1970   0.036122         B         B        24      4378   \n",
       "1        17.0       2017   0.072158         B         B         2       629   \n",
       "2        19.0       1977   0.211401         B         B         9      1892   \n",
       "3         2.0       1965   0.014073         B         B         2       475   \n",
       "4        17.0       1977   0.309479         B         B        35      7715   \n",
       "\n",
       "   Social_3  Healthcare_1  Helthcare_2  Shops_1 Shops_2  \n",
       "0         0        1036.0            1        1       B  \n",
       "1         1           NaN            0        0       A  \n",
       "2         0           NaN            0        1       B  \n",
       "3         0           NaN            0        0       B  \n",
       "4         4         990.0            0        6       B  "
      ]
     },
     "execution_count": 7,
     "metadata": {},
     "output_type": "execute_result"
    }
   ],
   "source": [
    "test_df = pd.read_csv(TEST_DATASET_PATH)\n",
    "test_df.head()"
   ]
  },
  {
   "cell_type": "code",
   "execution_count": 8,
   "metadata": {},
   "outputs": [
    {
     "data": {
      "text/plain": [
       "(10000, 20)"
      ]
     },
     "execution_count": 8,
     "metadata": {},
     "output_type": "execute_result"
    }
   ],
   "source": [
    "df.shape"
   ]
  },
  {
   "cell_type": "code",
   "execution_count": 9,
   "metadata": {},
   "outputs": [
    {
     "data": {
      "text/plain": [
       "(5000, 19)"
      ]
     },
     "execution_count": 9,
     "metadata": {},
     "output_type": "execute_result"
    }
   ],
   "source": [
    "test_df.shape"
   ]
  },
  {
   "cell_type": "code",
   "execution_count": 10,
   "metadata": {},
   "outputs": [
    {
     "name": "stdout",
     "output_type": "stream",
     "text": [
      "<class 'pandas.core.frame.DataFrame'>\n",
      "RangeIndex: 10000 entries, 0 to 9999\n",
      "Data columns (total 20 columns):\n",
      " #   Column         Non-Null Count  Dtype  \n",
      "---  ------         --------------  -----  \n",
      " 0   Id             10000 non-null  int64  \n",
      " 1   DistrictId     10000 non-null  int64  \n",
      " 2   Rooms          10000 non-null  float64\n",
      " 3   Square         10000 non-null  float64\n",
      " 4   LifeSquare     7887 non-null   float64\n",
      " 5   KitchenSquare  10000 non-null  float64\n",
      " 6   Floor          10000 non-null  int64  \n",
      " 7   HouseFloor     10000 non-null  float64\n",
      " 8   HouseYear      10000 non-null  int64  \n",
      " 9   Ecology_1      10000 non-null  float64\n",
      " 10  Ecology_2      10000 non-null  object \n",
      " 11  Ecology_3      10000 non-null  object \n",
      " 12  Social_1       10000 non-null  int64  \n",
      " 13  Social_2       10000 non-null  int64  \n",
      " 14  Social_3       10000 non-null  int64  \n",
      " 15  Healthcare_1   5202 non-null   float64\n",
      " 16  Helthcare_2    10000 non-null  int64  \n",
      " 17  Shops_1        10000 non-null  int64  \n",
      " 18  Shops_2        10000 non-null  object \n",
      " 19  Price          10000 non-null  float64\n",
      "dtypes: float64(8), int64(9), object(3)\n",
      "memory usage: 1.5+ MB\n"
     ]
    }
   ],
   "source": [
    "df.info()"
   ]
  },
  {
   "cell_type": "markdown",
   "metadata": {},
   "source": [
    "# Оптимизация памяти #"
   ]
  },
  {
   "cell_type": "code",
   "execution_count": 11,
   "metadata": {},
   "outputs": [],
   "source": [
    "def reduce_mem_usage(df):\n",
    "    \"\"\" iterate through all the columns of a dataframe and modify the data type\n",
    "        to reduce memory usage.        \n",
    "    \"\"\"\n",
    "    start_mem = df.memory_usage().sum() / 1024**2\n",
    "    print('Memory usage of dataframe is {:.2f} MB'.format(start_mem))\n",
    "    \n",
    "    for col in df.columns:\n",
    "        col_type = df[col].dtype\n",
    "        \n",
    "        if col_type != object:\n",
    "            c_min = df[col].min()\n",
    "            c_max = df[col].max()\n",
    "            if str(col_type)[:3] == 'int':\n",
    "                if c_min > np.iinfo(np.int8).min and c_max < np.iinfo(np.int8).max:\n",
    "                    df[col] = df[col].astype(np.int8)\n",
    "                elif c_min > np.iinfo(np.int16).min and c_max < np.iinfo(np.int16).max:\n",
    "                    df[col] = df[col].astype(np.int16)\n",
    "                elif c_min > np.iinfo(np.int32).min and c_max < np.iinfo(np.int32).max:\n",
    "                    df[col] = df[col].astype(np.int32)\n",
    "                elif c_min > np.iinfo(np.int64).min and c_max < np.iinfo(np.int64).max:\n",
    "                    df[col] = df[col].astype(np.int64)  \n",
    "            else:\n",
    "                if c_min > np.finfo(np.float32).min and c_max < np.finfo(np.float32).max:\n",
    "                    df[col] = df[col].astype(np.float32)\n",
    "                else:\n",
    "                    df[col] = df[col].astype(np.float64)\n",
    "        else:\n",
    "            df[col] = df[col].astype('category')\n",
    "\n",
    "    end_mem = df.memory_usage().sum() / 1024**2\n",
    "    print('Memory usage after optimization is: {:.2f} MB'.format(end_mem))\n",
    "    print('Decreased by {:.1f}%'.format(100 * (start_mem - end_mem) / start_mem))\n",
    "    \n",
    "    return df"
   ]
  },
  {
   "cell_type": "code",
   "execution_count": 12,
   "metadata": {},
   "outputs": [
    {
     "name": "stdout",
     "output_type": "stream",
     "text": [
      "Memory usage of dataframe is 1.53 MB\n",
      "Memory usage after optimization is: 0.49 MB\n",
      "Decreased by 68.1%\n"
     ]
    }
   ],
   "source": [
    "df = reduce_mem_usage(df)"
   ]
  },
  {
   "cell_type": "code",
   "execution_count": 13,
   "metadata": {},
   "outputs": [
    {
     "name": "stdout",
     "output_type": "stream",
     "text": [
      "<class 'pandas.core.frame.DataFrame'>\n",
      "RangeIndex: 10000 entries, 0 to 9999\n",
      "Data columns (total 20 columns):\n",
      " #   Column         Non-Null Count  Dtype   \n",
      "---  ------         --------------  -----   \n",
      " 0   Id             10000 non-null  int16   \n",
      " 1   DistrictId     10000 non-null  int16   \n",
      " 2   Rooms          10000 non-null  float32 \n",
      " 3   Square         10000 non-null  float32 \n",
      " 4   LifeSquare     7887 non-null   float32 \n",
      " 5   KitchenSquare  10000 non-null  float32 \n",
      " 6   Floor          10000 non-null  int8    \n",
      " 7   HouseFloor     10000 non-null  float32 \n",
      " 8   HouseYear      10000 non-null  int32   \n",
      " 9   Ecology_1      10000 non-null  float32 \n",
      " 10  Ecology_2      10000 non-null  category\n",
      " 11  Ecology_3      10000 non-null  category\n",
      " 12  Social_1       10000 non-null  int8    \n",
      " 13  Social_2       10000 non-null  int16   \n",
      " 14  Social_3       10000 non-null  int16   \n",
      " 15  Healthcare_1   5202 non-null   float32 \n",
      " 16  Helthcare_2    10000 non-null  int8    \n",
      " 17  Shops_1        10000 non-null  int8    \n",
      " 18  Shops_2        10000 non-null  category\n",
      " 19  Price          10000 non-null  float32 \n",
      "dtypes: category(3), float32(8), int16(4), int32(1), int8(4)\n",
      "memory usage: 498.5 KB\n"
     ]
    }
   ],
   "source": [
    "df.info()"
   ]
  },
  {
   "cell_type": "code",
   "execution_count": 14,
   "metadata": {},
   "outputs": [],
   "source": [
    "df['Id'] = df['Id'].astype('category')  # признак Id уникален, поэтому я не буду использовать его для анализа\n",
    "df['DistrictId'] = df['DistrictId'].astype('category')"
   ]
  },
  {
   "cell_type": "code",
   "execution_count": 15,
   "metadata": {},
   "outputs": [
    {
     "name": "stdout",
     "output_type": "stream",
     "text": [
      "<class 'pandas.core.frame.DataFrame'>\n",
      "RangeIndex: 10000 entries, 0 to 9999\n",
      "Data columns (total 20 columns):\n",
      " #   Column         Non-Null Count  Dtype   \n",
      "---  ------         --------------  -----   \n",
      " 0   Id             10000 non-null  category\n",
      " 1   DistrictId     10000 non-null  category\n",
      " 2   Rooms          10000 non-null  float32 \n",
      " 3   Square         10000 non-null  float32 \n",
      " 4   LifeSquare     7887 non-null   float32 \n",
      " 5   KitchenSquare  10000 non-null  float32 \n",
      " 6   Floor          10000 non-null  int8    \n",
      " 7   HouseFloor     10000 non-null  float32 \n",
      " 8   HouseYear      10000 non-null  int32   \n",
      " 9   Ecology_1      10000 non-null  float32 \n",
      " 10  Ecology_2      10000 non-null  category\n",
      " 11  Ecology_3      10000 non-null  category\n",
      " 12  Social_1       10000 non-null  int8    \n",
      " 13  Social_2       10000 non-null  int16   \n",
      " 14  Social_3       10000 non-null  int16   \n",
      " 15  Healthcare_1   5202 non-null   float32 \n",
      " 16  Helthcare_2    10000 non-null  int8    \n",
      " 17  Shops_1        10000 non-null  int8    \n",
      " 18  Shops_2        10000 non-null  category\n",
      " 19  Price          10000 non-null  float32 \n",
      "dtypes: category(5), float32(8), int16(2), int32(1), int8(4)\n",
      "memory usage: 908.2 KB\n"
     ]
    }
   ],
   "source": [
    "df.info()"
   ]
  },
  {
   "cell_type": "markdown",
   "metadata": {},
   "source": [
    "# EDA #\n",
    "\n",
    "Исправления выбросов\n",
    "\n",
    "Заполнения NaN\n",
    "\n",
    "Идей для генерации новых фич"
   ]
  },
  {
   "cell_type": "markdown",
   "metadata": {},
   "source": [
    "# Наша целевая переменная price #"
   ]
  },
  {
   "cell_type": "code",
   "execution_count": 16,
   "metadata": {},
   "outputs": [
    {
     "data": {
      "text/plain": [
       "count     10000.000000\n",
       "mean     214138.937500\n",
       "std       92872.273438\n",
       "min       59174.777344\n",
       "25%      153872.628906\n",
       "50%      192269.648438\n",
       "75%      249135.460938\n",
       "max      633233.437500\n",
       "Name: Price, dtype: float64"
      ]
     },
     "execution_count": 16,
     "metadata": {},
     "output_type": "execute_result"
    }
   ],
   "source": [
    "df['Price'].describe()"
   ]
  },
  {
   "cell_type": "markdown",
   "metadata": {},
   "source": [
    "Работаем с целевой переменной"
   ]
  },
  {
   "cell_type": "code",
   "execution_count": 17,
   "metadata": {},
   "outputs": [
    {
     "data": {
      "image/png": "[encoded data removed]",
      "text/plain": [
       "<Figure size 1152x576 with 2 Axes>"
      ]
     },
     "metadata": {
      "needs_background": "light"
     },
     "output_type": "display_data"
    }
   ],
   "source": [
    "plt.figure(figsize = (16, 8))\n",
    "\n",
    "plt.subplot(121)\n",
    "df['Price'].hist(density=False, bins=30)\n",
    "plt.ylabel('count')\n",
    "plt.xlabel('Price')\n",
    "\n",
    "plt.subplot(122)\n",
    "sns.kdeplot(df['Price'], shade=True, legend=False)\n",
    "plt.xlabel('Price')\n",
    "\n",
    "plt.suptitle('Distribution of price')\n",
    "plt.show()"
   ]
  },
  {
   "cell_type": "markdown",
   "metadata": {},
   "source": [
    "Рассмотрим модальное, медианное и среднее значения"
   ]
  },
  {
   "cell_type": "code",
   "execution_count": 18,
   "metadata": {},
   "outputs": [
    {
     "data": {
      "image/png": "[encoded data removed]",
      "text/plain": [
       "<Figure size 864x432 with 1 Axes>"
      ]
     },
     "metadata": {
      "needs_background": "light"
     },
     "output_type": "display_data"
    },
    {
     "name": "stdout",
     "output_type": "stream",
     "text": [
      "\tMean= 214138.94    Median= 192269.65625    Mode= 182938.078125\n"
     ]
    }
   ],
   "source": [
    "feature_distribution('Price')"
   ]
  },
  {
   "cell_type": "markdown",
   "metadata": {},
   "source": [
    "Распределение целевой переменной - адекватно"
   ]
  },
  {
   "cell_type": "markdown",
   "metadata": {},
   "source": [
    "Количественные переменные"
   ]
  },
  {
   "cell_type": "code",
   "execution_count": 19,
   "metadata": {
    "scrolled": false
   },
   "outputs": [
    {
     "data": {
      "text/html": [
       "<div>\n",
       "<style scoped>\n",
       "    .dataframe tbody tr th:only-of-type {\n",
       "        vertical-align: middle;\n",
       "    }\n",
       "\n",
       "    .dataframe tbody tr th {\n",
       "        vertical-align: top;\n",
       "    }\n",
       "\n",
       "    .dataframe thead th {\n",
       "        text-align: right;\n",
       "    }\n",
       "</style>\n",
       "<table border=\"1\" class=\"dataframe\">\n",
       "  <thead>\n",
       "    <tr style=\"text-align: right;\">\n",
       "      <th></th>\n",
       "      <th>Rooms</th>\n",
       "      <th>Square</th>\n",
       "      <th>LifeSquare</th>\n",
       "      <th>KitchenSquare</th>\n",
       "      <th>Floor</th>\n",
       "      <th>HouseFloor</th>\n",
       "      <th>HouseYear</th>\n",
       "      <th>Ecology_1</th>\n",
       "      <th>Social_1</th>\n",
       "      <th>Social_2</th>\n",
       "      <th>Social_3</th>\n",
       "      <th>Healthcare_1</th>\n",
       "      <th>Helthcare_2</th>\n",
       "      <th>Shops_1</th>\n",
       "      <th>Price</th>\n",
       "    </tr>\n",
       "  </thead>\n",
       "  <tbody>\n",
       "    <tr>\n",
       "      <th>count</th>\n",
       "      <td>10000.000000</td>\n",
       "      <td>10000.000000</td>\n",
       "      <td>7887.000000</td>\n",
       "      <td>10000.000000</td>\n",
       "      <td>10000.000000</td>\n",
       "      <td>10000.0000</td>\n",
       "      <td>1.000000e+04</td>\n",
       "      <td>10000.000000</td>\n",
       "      <td>10000.000000</td>\n",
       "      <td>10000.000000</td>\n",
       "      <td>10000.000000</td>\n",
       "      <td>5202.000000</td>\n",
       "      <td>10000.000000</td>\n",
       "      <td>10000.000000</td>\n",
       "      <td>10000.000000</td>\n",
       "    </tr>\n",
       "    <tr>\n",
       "      <th>mean</th>\n",
       "      <td>1.890500</td>\n",
       "      <td>56.315720</td>\n",
       "      <td>37.199665</td>\n",
       "      <td>6.273300</td>\n",
       "      <td>8.526700</td>\n",
       "      <td>12.6094</td>\n",
       "      <td>3.990166e+03</td>\n",
       "      <td>0.118858</td>\n",
       "      <td>24.687000</td>\n",
       "      <td>5352.157400</td>\n",
       "      <td>8.039200</td>\n",
       "      <td>1142.904419</td>\n",
       "      <td>1.319500</td>\n",
       "      <td>4.231300</td>\n",
       "      <td>214138.937500</td>\n",
       "    </tr>\n",
       "    <tr>\n",
       "      <th>std</th>\n",
       "      <td>0.839522</td>\n",
       "      <td>21.058716</td>\n",
       "      <td>86.241219</td>\n",
       "      <td>28.560839</td>\n",
       "      <td>5.241148</td>\n",
       "      <td>6.7762</td>\n",
       "      <td>2.005003e+05</td>\n",
       "      <td>0.119025</td>\n",
       "      <td>17.532614</td>\n",
       "      <td>4006.799803</td>\n",
       "      <td>23.831875</td>\n",
       "      <td>1021.519470</td>\n",
       "      <td>1.493601</td>\n",
       "      <td>4.806341</td>\n",
       "      <td>92872.273438</td>\n",
       "    </tr>\n",
       "    <tr>\n",
       "      <th>min</th>\n",
       "      <td>0.000000</td>\n",
       "      <td>1.136859</td>\n",
       "      <td>0.370619</td>\n",
       "      <td>0.000000</td>\n",
       "      <td>1.000000</td>\n",
       "      <td>0.0000</td>\n",
       "      <td>1.910000e+03</td>\n",
       "      <td>0.000000</td>\n",
       "      <td>0.000000</td>\n",
       "      <td>168.000000</td>\n",
       "      <td>0.000000</td>\n",
       "      <td>0.000000</td>\n",
       "      <td>0.000000</td>\n",
       "      <td>0.000000</td>\n",
       "      <td>59174.777344</td>\n",
       "    </tr>\n",
       "    <tr>\n",
       "      <th>25%</th>\n",
       "      <td>1.000000</td>\n",
       "      <td>41.774879</td>\n",
       "      <td>22.769833</td>\n",
       "      <td>1.000000</td>\n",
       "      <td>4.000000</td>\n",
       "      <td>9.0000</td>\n",
       "      <td>1.974000e+03</td>\n",
       "      <td>0.017647</td>\n",
       "      <td>6.000000</td>\n",
       "      <td>1564.000000</td>\n",
       "      <td>0.000000</td>\n",
       "      <td>350.000000</td>\n",
       "      <td>0.000000</td>\n",
       "      <td>1.000000</td>\n",
       "      <td>153872.628906</td>\n",
       "    </tr>\n",
       "    <tr>\n",
       "      <th>50%</th>\n",
       "      <td>2.000000</td>\n",
       "      <td>52.513309</td>\n",
       "      <td>32.781261</td>\n",
       "      <td>6.000000</td>\n",
       "      <td>7.000000</td>\n",
       "      <td>13.0000</td>\n",
       "      <td>1.977000e+03</td>\n",
       "      <td>0.075424</td>\n",
       "      <td>25.000000</td>\n",
       "      <td>5285.000000</td>\n",
       "      <td>2.000000</td>\n",
       "      <td>900.000000</td>\n",
       "      <td>1.000000</td>\n",
       "      <td>3.000000</td>\n",
       "      <td>192269.648438</td>\n",
       "    </tr>\n",
       "    <tr>\n",
       "      <th>75%</th>\n",
       "      <td>2.000000</td>\n",
       "      <td>65.900627</td>\n",
       "      <td>45.128803</td>\n",
       "      <td>9.000000</td>\n",
       "      <td>12.000000</td>\n",
       "      <td>17.0000</td>\n",
       "      <td>2.001000e+03</td>\n",
       "      <td>0.195781</td>\n",
       "      <td>36.000000</td>\n",
       "      <td>7227.000000</td>\n",
       "      <td>5.000000</td>\n",
       "      <td>1548.000000</td>\n",
       "      <td>2.000000</td>\n",
       "      <td>6.000000</td>\n",
       "      <td>249135.460938</td>\n",
       "    </tr>\n",
       "    <tr>\n",
       "      <th>max</th>\n",
       "      <td>19.000000</td>\n",
       "      <td>641.065186</td>\n",
       "      <td>7480.592285</td>\n",
       "      <td>2014.000000</td>\n",
       "      <td>42.000000</td>\n",
       "      <td>117.0000</td>\n",
       "      <td>2.005201e+07</td>\n",
       "      <td>0.521867</td>\n",
       "      <td>74.000000</td>\n",
       "      <td>19083.000000</td>\n",
       "      <td>141.000000</td>\n",
       "      <td>4849.000000</td>\n",
       "      <td>6.000000</td>\n",
       "      <td>23.000000</td>\n",
       "      <td>633233.437500</td>\n",
       "    </tr>\n",
       "  </tbody>\n",
       "</table>\n",
       "</div>"
      ],
      "text/plain": [
       "              Rooms        Square   LifeSquare  KitchenSquare         Floor  \\\n",
       "count  10000.000000  10000.000000  7887.000000   10000.000000  10000.000000   \n",
       "mean       1.890500     56.315720    37.199665       6.273300      8.526700   \n",
       "std        0.839522     21.058716    86.241219      28.560839      5.241148   \n",
       "min        0.000000      1.136859     0.370619       0.000000      1.000000   \n",
       "25%        1.000000     41.774879    22.769833       1.000000      4.000000   \n",
       "50%        2.000000     52.513309    32.781261       6.000000      7.000000   \n",
       "75%        2.000000     65.900627    45.128803       9.000000     12.000000   \n",
       "max       19.000000    641.065186  7480.592285    2014.000000     42.000000   \n",
       "\n",
       "       HouseFloor     HouseYear     Ecology_1      Social_1      Social_2  \\\n",
       "count  10000.0000  1.000000e+04  10000.000000  10000.000000  10000.000000   \n",
       "mean      12.6094  3.990166e+03      0.118858     24.687000   5352.157400   \n",
       "std        6.7762  2.005003e+05      0.119025     17.532614   4006.799803   \n",
       "min        0.0000  1.910000e+03      0.000000      0.000000    168.000000   \n",
       "25%        9.0000  1.974000e+03      0.017647      6.000000   1564.000000   \n",
       "50%       13.0000  1.977000e+03      0.075424     25.000000   5285.000000   \n",
       "75%       17.0000  2.001000e+03      0.195781     36.000000   7227.000000   \n",
       "max      117.0000  2.005201e+07      0.521867     74.000000  19083.000000   \n",
       "\n",
       "           Social_3  Healthcare_1   Helthcare_2       Shops_1          Price  \n",
       "count  10000.000000   5202.000000  10000.000000  10000.000000   10000.000000  \n",
       "mean       8.039200   1142.904419      1.319500      4.231300  214138.937500  \n",
       "std       23.831875   1021.519470      1.493601      4.806341   92872.273438  \n",
       "min        0.000000      0.000000      0.000000      0.000000   59174.777344  \n",
       "25%        0.000000    350.000000      0.000000      1.000000  153872.628906  \n",
       "50%        2.000000    900.000000      1.000000      3.000000  192269.648438  \n",
       "75%        5.000000   1548.000000      2.000000      6.000000  249135.460938  \n",
       "max      141.000000   4849.000000      6.000000     23.000000  633233.437500  "
      ]
     },
     "execution_count": 19,
     "metadata": {},
     "output_type": "execute_result"
    }
   ],
   "source": [
    "df.describe()"
   ]
  },
  {
   "cell_type": "code",
   "execution_count": 20,
   "metadata": {},
   "outputs": [
    {
     "data": {
      "text/html": [
       "<div>\n",
       "<style scoped>\n",
       "    .dataframe tbody tr th:only-of-type {\n",
       "        vertical-align: middle;\n",
       "    }\n",
       "\n",
       "    .dataframe tbody tr th {\n",
       "        vertical-align: top;\n",
       "    }\n",
       "\n",
       "    .dataframe thead th {\n",
       "        text-align: right;\n",
       "    }\n",
       "</style>\n",
       "<table border=\"1\" class=\"dataframe\">\n",
       "  <thead>\n",
       "    <tr style=\"text-align: right;\">\n",
       "      <th></th>\n",
       "      <th>Id</th>\n",
       "      <th>DistrictId</th>\n",
       "      <th>Rooms</th>\n",
       "      <th>Square</th>\n",
       "      <th>LifeSquare</th>\n",
       "      <th>KitchenSquare</th>\n",
       "      <th>Floor</th>\n",
       "      <th>HouseFloor</th>\n",
       "      <th>HouseYear</th>\n",
       "      <th>Ecology_1</th>\n",
       "      <th>Ecology_2</th>\n",
       "      <th>Ecology_3</th>\n",
       "      <th>Social_1</th>\n",
       "      <th>Social_2</th>\n",
       "      <th>Social_3</th>\n",
       "      <th>Healthcare_1</th>\n",
       "      <th>Helthcare_2</th>\n",
       "      <th>Shops_1</th>\n",
       "      <th>Shops_2</th>\n",
       "      <th>Price</th>\n",
       "    </tr>\n",
       "  </thead>\n",
       "  <tbody>\n",
       "    <tr>\n",
       "      <th>0</th>\n",
       "      <td>11809</td>\n",
       "      <td>27</td>\n",
       "      <td>3.0</td>\n",
       "      <td>115.027313</td>\n",
       "      <td>NaN</td>\n",
       "      <td>10.0</td>\n",
       "      <td>4</td>\n",
       "      <td>10.0</td>\n",
       "      <td>2014</td>\n",
       "      <td>0.075424</td>\n",
       "      <td>B</td>\n",
       "      <td>B</td>\n",
       "      <td>11</td>\n",
       "      <td>3097</td>\n",
       "      <td>0</td>\n",
       "      <td>NaN</td>\n",
       "      <td>0</td>\n",
       "      <td>0</td>\n",
       "      <td>B</td>\n",
       "      <td>305018.875000</td>\n",
       "    </tr>\n",
       "    <tr>\n",
       "      <th>1</th>\n",
       "      <td>3013</td>\n",
       "      <td>22</td>\n",
       "      <td>1.0</td>\n",
       "      <td>39.832523</td>\n",
       "      <td>23.169222</td>\n",
       "      <td>8.0</td>\n",
       "      <td>7</td>\n",
       "      <td>8.0</td>\n",
       "      <td>1966</td>\n",
       "      <td>0.118537</td>\n",
       "      <td>B</td>\n",
       "      <td>B</td>\n",
       "      <td>30</td>\n",
       "      <td>6207</td>\n",
       "      <td>1</td>\n",
       "      <td>1183.0</td>\n",
       "      <td>1</td>\n",
       "      <td>0</td>\n",
       "      <td>B</td>\n",
       "      <td>177734.546875</td>\n",
       "    </tr>\n",
       "    <tr>\n",
       "      <th>2</th>\n",
       "      <td>8215</td>\n",
       "      <td>1</td>\n",
       "      <td>3.0</td>\n",
       "      <td>78.342216</td>\n",
       "      <td>47.671970</td>\n",
       "      <td>10.0</td>\n",
       "      <td>2</td>\n",
       "      <td>17.0</td>\n",
       "      <td>1988</td>\n",
       "      <td>0.025609</td>\n",
       "      <td>B</td>\n",
       "      <td>B</td>\n",
       "      <td>33</td>\n",
       "      <td>5261</td>\n",
       "      <td>0</td>\n",
       "      <td>240.0</td>\n",
       "      <td>3</td>\n",
       "      <td>1</td>\n",
       "      <td>B</td>\n",
       "      <td>282078.718750</td>\n",
       "    </tr>\n",
       "    <tr>\n",
       "      <th>3</th>\n",
       "      <td>2352</td>\n",
       "      <td>1</td>\n",
       "      <td>1.0</td>\n",
       "      <td>40.409908</td>\n",
       "      <td>NaN</td>\n",
       "      <td>1.0</td>\n",
       "      <td>10</td>\n",
       "      <td>22.0</td>\n",
       "      <td>1977</td>\n",
       "      <td>0.007122</td>\n",
       "      <td>B</td>\n",
       "      <td>B</td>\n",
       "      <td>1</td>\n",
       "      <td>264</td>\n",
       "      <td>0</td>\n",
       "      <td>NaN</td>\n",
       "      <td>0</td>\n",
       "      <td>1</td>\n",
       "      <td>B</td>\n",
       "      <td>168106.000000</td>\n",
       "    </tr>\n",
       "    <tr>\n",
       "      <th>4</th>\n",
       "      <td>13866</td>\n",
       "      <td>94</td>\n",
       "      <td>2.0</td>\n",
       "      <td>64.285065</td>\n",
       "      <td>38.562515</td>\n",
       "      <td>9.0</td>\n",
       "      <td>16</td>\n",
       "      <td>16.0</td>\n",
       "      <td>1972</td>\n",
       "      <td>0.282798</td>\n",
       "      <td>B</td>\n",
       "      <td>B</td>\n",
       "      <td>33</td>\n",
       "      <td>8667</td>\n",
       "      <td>2</td>\n",
       "      <td>NaN</td>\n",
       "      <td>0</td>\n",
       "      <td>6</td>\n",
       "      <td>B</td>\n",
       "      <td>343995.093750</td>\n",
       "    </tr>\n",
       "  </tbody>\n",
       "</table>\n",
       "</div>"
      ],
      "text/plain": [
       "      Id DistrictId  Rooms      Square  LifeSquare  KitchenSquare  Floor  \\\n",
       "0  11809         27    3.0  115.027313         NaN           10.0      4   \n",
       "1   3013         22    1.0   39.832523   23.169222            8.0      7   \n",
       "2   8215          1    3.0   78.342216   47.671970           10.0      2   \n",
       "3   2352          1    1.0   40.409908         NaN            1.0     10   \n",
       "4  13866         94    2.0   64.285065   38.562515            9.0     16   \n",
       "\n",
       "   HouseFloor  HouseYear  Ecology_1 Ecology_2 Ecology_3  Social_1  Social_2  \\\n",
       "0        10.0       2014   0.075424         B         B        11      3097   \n",
       "1         8.0       1966   0.118537         B         B        30      6207   \n",
       "2        17.0       1988   0.025609         B         B        33      5261   \n",
       "3        22.0       1977   0.007122         B         B         1       264   \n",
       "4        16.0       1972   0.282798         B         B        33      8667   \n",
       "\n",
       "   Social_3  Healthcare_1  Helthcare_2  Shops_1 Shops_2          Price  \n",
       "0         0           NaN            0        0       B  305018.875000  \n",
       "1         1        1183.0            1        0       B  177734.546875  \n",
       "2         0         240.0            3        1       B  282078.718750  \n",
       "3         0           NaN            0        1       B  168106.000000  \n",
       "4         2           NaN            0        6       B  343995.093750  "
      ]
     },
     "execution_count": 20,
     "metadata": {},
     "output_type": "execute_result"
    }
   ],
   "source": [
    "df.head()"
   ]
  },
  {
   "cell_type": "markdown",
   "metadata": {},
   "source": [
    "LifeSquare и Healthcare_1 есть пропуски.\n",
    "\n",
    "В признаках Rooms, KitchenSquare, HouseFloor, Ecology_1, Social_1, Social_3, Heathcare_1, Helthcare_2, Shops_1 есть нули, возможно пропуски.\n",
    "\n",
    "LifeSquare, KitchenSquare, HouseFloor, HouseYear, Social_2, Social_3, Shops_1 максимальные показатели велики, скорее всего мы говорим о выбросах."
   ]
  },
  {
   "cell_type": "code",
   "execution_count": 21,
   "metadata": {},
   "outputs": [
    {
     "data": {
      "text/plain": [
       "['Id', 'DistrictId', 'Ecology_2', 'Ecology_3', 'Shops_2']"
      ]
     },
     "execution_count": 21,
     "metadata": {},
     "output_type": "execute_result"
    }
   ],
   "source": [
    "df.select_dtypes(include='category').columns.tolist()"
   ]
  },
  {
   "cell_type": "code",
   "execution_count": 22,
   "metadata": {},
   "outputs": [
    {
     "data": {
      "text/plain": [
       "27     851\n",
       "1      652\n",
       "23     565\n",
       "6      511\n",
       "9      294\n",
       "      ... \n",
       "199      1\n",
       "117      1\n",
       "205      1\n",
       "207      1\n",
       "209      1\n",
       "Name: DistrictId, Length: 205, dtype: int64"
      ]
     },
     "execution_count": 22,
     "metadata": {},
     "output_type": "execute_result"
    }
   ],
   "source": [
    "df['DistrictId'].value_counts()"
   ]
  },
  {
   "cell_type": "code",
   "execution_count": 23,
   "metadata": {},
   "outputs": [
    {
     "data": {
      "text/plain": [
       "B    9903\n",
       "A      97\n",
       "Name: Ecology_2, dtype: int64"
      ]
     },
     "execution_count": 23,
     "metadata": {},
     "output_type": "execute_result"
    }
   ],
   "source": [
    "df['Ecology_2'].value_counts()"
   ]
  },
  {
   "cell_type": "code",
   "execution_count": 24,
   "metadata": {},
   "outputs": [
    {
     "data": {
      "text/plain": [
       "B    9725\n",
       "A     275\n",
       "Name: Ecology_3, dtype: int64"
      ]
     },
     "execution_count": 24,
     "metadata": {},
     "output_type": "execute_result"
    }
   ],
   "source": [
    "df['Ecology_3'].value_counts()"
   ]
  },
  {
   "cell_type": "code",
   "execution_count": 25,
   "metadata": {},
   "outputs": [
    {
     "data": {
      "text/plain": [
       "B    9175\n",
       "A     825\n",
       "Name: Shops_2, dtype: int64"
      ]
     },
     "execution_count": 25,
     "metadata": {},
     "output_type": "execute_result"
    }
   ],
   "source": [
    "df['Shops_2'].value_counts()"
   ]
  },
  {
   "cell_type": "markdown",
   "metadata": {},
   "source": [
    "# Обработка выбросов #\n",
    "\n",
    "Что можно делать с ними?\n",
    "\n",
    "Выкинуть эти данные (только на трейне, на тесте ничего не выкидываем)\n",
    "\n",
    "Заменять выбросы разными методами (медианы, средние значения, np.clip и т.д.)\n",
    "\n",
    "Делать/не делать дополнительную фичу\n",
    "\n",
    "Ничего не делать"
   ]
  },
  {
   "cell_type": "code",
   "execution_count": 26,
   "metadata": {},
   "outputs": [
    {
     "data": {
      "text/plain": [
       "2.0     3880\n",
       "1.0     3705\n",
       "3.0     2235\n",
       "4.0      150\n",
       "5.0       18\n",
       "0.0        8\n",
       "10.0       2\n",
       "19.0       1\n",
       "6.0        1\n",
       "Name: Rooms, dtype: int64"
      ]
     },
     "execution_count": 26,
     "metadata": {},
     "output_type": "execute_result"
    }
   ],
   "source": [
    "df['Rooms'].value_counts()"
   ]
  },
  {
   "cell_type": "markdown",
   "metadata": {},
   "source": [
    "Rooms"
   ]
  },
  {
   "cell_type": "code",
   "execution_count": 27,
   "metadata": {},
   "outputs": [
    {
     "data": {
      "image/png": "[encoded data removed]",
      "text/plain": [
       "<Figure size 864x432 with 1 Axes>"
      ]
     },
     "metadata": {
      "needs_background": "light"
     },
     "output_type": "display_data"
    },
    {
     "name": "stdout",
     "output_type": "stream",
     "text": [
      "\tMean= 1.89    Median= 2.0    Mode= 2.0\n"
     ]
    }
   ],
   "source": [
    "feature_distribution('Rooms')"
   ]
  },
  {
   "cell_type": "markdown",
   "metadata": {},
   "source": [
    "0 явно ошибочное значение для комнат. \n",
    "\n",
    "6 значение встречается редко, можно заменить"
   ]
  },
  {
   "cell_type": "code",
   "execution_count": 28,
   "metadata": {},
   "outputs": [
    {
     "data": {
      "text/html": [
       "<div>\n",
       "<style scoped>\n",
       "    .dataframe tbody tr th:only-of-type {\n",
       "        vertical-align: middle;\n",
       "    }\n",
       "\n",
       "    .dataframe tbody tr th {\n",
       "        vertical-align: top;\n",
       "    }\n",
       "\n",
       "    .dataframe thead th {\n",
       "        text-align: right;\n",
       "    }\n",
       "</style>\n",
       "<table border=\"1\" class=\"dataframe\">\n",
       "  <thead>\n",
       "    <tr style=\"text-align: right;\">\n",
       "      <th></th>\n",
       "      <th>Id</th>\n",
       "      <th>DistrictId</th>\n",
       "      <th>Rooms</th>\n",
       "      <th>Square</th>\n",
       "      <th>LifeSquare</th>\n",
       "      <th>KitchenSquare</th>\n",
       "      <th>Floor</th>\n",
       "      <th>HouseFloor</th>\n",
       "      <th>HouseYear</th>\n",
       "      <th>Ecology_1</th>\n",
       "      <th>...</th>\n",
       "      <th>Ecology_3</th>\n",
       "      <th>Social_1</th>\n",
       "      <th>Social_2</th>\n",
       "      <th>Social_3</th>\n",
       "      <th>Healthcare_1</th>\n",
       "      <th>Helthcare_2</th>\n",
       "      <th>Shops_1</th>\n",
       "      <th>Shops_2</th>\n",
       "      <th>Price</th>\n",
       "      <th>Rooms_outlier</th>\n",
       "    </tr>\n",
       "  </thead>\n",
       "  <tbody>\n",
       "    <tr>\n",
       "      <th>0</th>\n",
       "      <td>11809</td>\n",
       "      <td>27</td>\n",
       "      <td>3.0</td>\n",
       "      <td>115.027313</td>\n",
       "      <td>NaN</td>\n",
       "      <td>10.0</td>\n",
       "      <td>4</td>\n",
       "      <td>10.0</td>\n",
       "      <td>2014</td>\n",
       "      <td>0.075424</td>\n",
       "      <td>...</td>\n",
       "      <td>B</td>\n",
       "      <td>11</td>\n",
       "      <td>3097</td>\n",
       "      <td>0</td>\n",
       "      <td>NaN</td>\n",
       "      <td>0</td>\n",
       "      <td>0</td>\n",
       "      <td>B</td>\n",
       "      <td>305018.875000</td>\n",
       "      <td>0</td>\n",
       "    </tr>\n",
       "    <tr>\n",
       "      <th>1</th>\n",
       "      <td>3013</td>\n",
       "      <td>22</td>\n",
       "      <td>1.0</td>\n",
       "      <td>39.832523</td>\n",
       "      <td>23.169222</td>\n",
       "      <td>8.0</td>\n",
       "      <td>7</td>\n",
       "      <td>8.0</td>\n",
       "      <td>1966</td>\n",
       "      <td>0.118537</td>\n",
       "      <td>...</td>\n",
       "      <td>B</td>\n",
       "      <td>30</td>\n",
       "      <td>6207</td>\n",
       "      <td>1</td>\n",
       "      <td>1183.0</td>\n",
       "      <td>1</td>\n",
       "      <td>0</td>\n",
       "      <td>B</td>\n",
       "      <td>177734.546875</td>\n",
       "      <td>0</td>\n",
       "    </tr>\n",
       "    <tr>\n",
       "      <th>2</th>\n",
       "      <td>8215</td>\n",
       "      <td>1</td>\n",
       "      <td>3.0</td>\n",
       "      <td>78.342216</td>\n",
       "      <td>47.671970</td>\n",
       "      <td>10.0</td>\n",
       "      <td>2</td>\n",
       "      <td>17.0</td>\n",
       "      <td>1988</td>\n",
       "      <td>0.025609</td>\n",
       "      <td>...</td>\n",
       "      <td>B</td>\n",
       "      <td>33</td>\n",
       "      <td>5261</td>\n",
       "      <td>0</td>\n",
       "      <td>240.0</td>\n",
       "      <td>3</td>\n",
       "      <td>1</td>\n",
       "      <td>B</td>\n",
       "      <td>282078.718750</td>\n",
       "      <td>0</td>\n",
       "    </tr>\n",
       "    <tr>\n",
       "      <th>3</th>\n",
       "      <td>2352</td>\n",
       "      <td>1</td>\n",
       "      <td>1.0</td>\n",
       "      <td>40.409908</td>\n",
       "      <td>NaN</td>\n",
       "      <td>1.0</td>\n",
       "      <td>10</td>\n",
       "      <td>22.0</td>\n",
       "      <td>1977</td>\n",
       "      <td>0.007122</td>\n",
       "      <td>...</td>\n",
       "      <td>B</td>\n",
       "      <td>1</td>\n",
       "      <td>264</td>\n",
       "      <td>0</td>\n",
       "      <td>NaN</td>\n",
       "      <td>0</td>\n",
       "      <td>1</td>\n",
       "      <td>B</td>\n",
       "      <td>168106.000000</td>\n",
       "      <td>0</td>\n",
       "    </tr>\n",
       "    <tr>\n",
       "      <th>4</th>\n",
       "      <td>13866</td>\n",
       "      <td>94</td>\n",
       "      <td>2.0</td>\n",
       "      <td>64.285065</td>\n",
       "      <td>38.562515</td>\n",
       "      <td>9.0</td>\n",
       "      <td>16</td>\n",
       "      <td>16.0</td>\n",
       "      <td>1972</td>\n",
       "      <td>0.282798</td>\n",
       "      <td>...</td>\n",
       "      <td>B</td>\n",
       "      <td>33</td>\n",
       "      <td>8667</td>\n",
       "      <td>2</td>\n",
       "      <td>NaN</td>\n",
       "      <td>0</td>\n",
       "      <td>6</td>\n",
       "      <td>B</td>\n",
       "      <td>343995.093750</td>\n",
       "      <td>0</td>\n",
       "    </tr>\n",
       "  </tbody>\n",
       "</table>\n",
       "<p>5 rows × 21 columns</p>\n",
       "</div>"
      ],
      "text/plain": [
       "      Id DistrictId  Rooms      Square  LifeSquare  KitchenSquare  Floor  \\\n",
       "0  11809         27    3.0  115.027313         NaN           10.0      4   \n",
       "1   3013         22    1.0   39.832523   23.169222            8.0      7   \n",
       "2   8215          1    3.0   78.342216   47.671970           10.0      2   \n",
       "3   2352          1    1.0   40.409908         NaN            1.0     10   \n",
       "4  13866         94    2.0   64.285065   38.562515            9.0     16   \n",
       "\n",
       "   HouseFloor  HouseYear  Ecology_1  ... Ecology_3 Social_1  Social_2  \\\n",
       "0        10.0       2014   0.075424  ...         B       11      3097   \n",
       "1         8.0       1966   0.118537  ...         B       30      6207   \n",
       "2        17.0       1988   0.025609  ...         B       33      5261   \n",
       "3        22.0       1977   0.007122  ...         B        1       264   \n",
       "4        16.0       1972   0.282798  ...         B       33      8667   \n",
       "\n",
       "   Social_3  Healthcare_1  Helthcare_2  Shops_1  Shops_2          Price  \\\n",
       "0         0           NaN            0        0        B  305018.875000   \n",
       "1         1        1183.0            1        0        B  177734.546875   \n",
       "2         0         240.0            3        1        B  282078.718750   \n",
       "3         0           NaN            0        1        B  168106.000000   \n",
       "4         2           NaN            0        6        B  343995.093750   \n",
       "\n",
       "   Rooms_outlier  \n",
       "0              0  \n",
       "1              0  \n",
       "2              0  \n",
       "3              0  \n",
       "4              0  \n",
       "\n",
       "[5 rows x 21 columns]"
      ]
     },
     "execution_count": 28,
     "metadata": {},
     "output_type": "execute_result"
    }
   ],
   "source": [
    "df['Rooms_outlier'] = 0 # 0 для комнат от 1 до 5, метка 1 для комнат 0 и больше 6\n",
    "df.loc[(df['Rooms'] == 0) | (df['Rooms'] >= 6), 'Rooms_outlier'] = 1\n",
    "df.head()"
   ]
  },
  {
   "cell_type": "code",
   "execution_count": 29,
   "metadata": {},
   "outputs": [],
   "source": [
    "df.loc[df['Rooms'] >= 6, 'Rooms'] = df['Rooms'].quantile(.975)  \n",
    "df.loc[df['Rooms'] == 0, 'Rooms'] = df['Rooms'].quantile(.025)"
   ]
  },
  {
   "cell_type": "code",
   "execution_count": 30,
   "metadata": {},
   "outputs": [
    {
     "data": {
      "image/png": "[encoded data removed]",
      "text/plain": [
       "<Figure size 864x432 with 1 Axes>"
      ]
     },
     "metadata": {
      "needs_background": "light"
     },
     "output_type": "display_data"
    },
    {
     "name": "stdout",
     "output_type": "stream",
     "text": [
      "\tMean= 1.89    Median= 2.0    Mode= 2.0\n"
     ]
    }
   ],
   "source": [
    "feature_distribution('Rooms')"
   ]
  },
  {
   "cell_type": "code",
   "execution_count": 31,
   "metadata": {},
   "outputs": [
    {
     "data": {
      "text/plain": [
       "2.0    3880\n",
       "1.0    3713\n",
       "3.0    2239\n",
       "4.0     150\n",
       "5.0      18\n",
       "Name: Rooms, dtype: int64"
      ]
     },
     "execution_count": 31,
     "metadata": {},
     "output_type": "execute_result"
    }
   ],
   "source": [
    "df['Rooms'].value_counts()"
   ]
  },
  {
   "cell_type": "markdown",
   "metadata": {},
   "source": [
    "Houseyear"
   ]
  },
  {
   "cell_type": "code",
   "execution_count": 32,
   "metadata": {},
   "outputs": [
    {
     "data": {
      "text/plain": [
       "9163    20052011\n",
       "8828        4968\n",
       "7246        2020\n",
       "2350        2020\n",
       "8296        2020\n",
       "          ...   \n",
       "7610        1916\n",
       "6250        1914\n",
       "2066        1912\n",
       "2795        1912\n",
       "6794        1910\n",
       "Name: HouseYear, Length: 10000, dtype: int32"
      ]
     },
     "execution_count": 32,
     "metadata": {},
     "output_type": "execute_result"
    }
   ],
   "source": [
    "df['HouseYear'].sort_values(ascending=False)"
   ]
  },
  {
   "cell_type": "markdown",
   "metadata": {},
   "source": [
    "Все что больше 2020 года, выбросы, которые мы заменим"
   ]
  },
  {
   "cell_type": "code",
   "execution_count": 33,
   "metadata": {},
   "outputs": [],
   "source": [
    "df.loc[df['HouseYear'] > 2020, 'HouseYear'] = 2020"
   ]
  },
  {
   "cell_type": "code",
   "execution_count": 34,
   "metadata": {},
   "outputs": [
    {
     "data": {
      "text/plain": [
       "7246    2020\n",
       "2350    2020\n",
       "8296    2020\n",
       "3171    2020\n",
       "3196    2020\n",
       "        ... \n",
       "7610    1916\n",
       "6250    1914\n",
       "2066    1912\n",
       "2795    1912\n",
       "6794    1910\n",
       "Name: HouseYear, Length: 10000, dtype: int32"
      ]
     },
     "execution_count": 34,
     "metadata": {},
     "output_type": "execute_result"
    }
   ],
   "source": [
    "df['HouseYear'].sort_values(ascending=False)"
   ]
  },
  {
   "cell_type": "markdown",
   "metadata": {},
   "source": [
    "Square, LifeSquare, KitchenSquare - признаки площади, присутствует взаимосвязь "
   ]
  },
  {
   "cell_type": "code",
   "execution_count": 35,
   "metadata": {},
   "outputs": [
    {
     "data": {
      "text/html": [
       "<div>\n",
       "<style scoped>\n",
       "    .dataframe tbody tr th:only-of-type {\n",
       "        vertical-align: middle;\n",
       "    }\n",
       "\n",
       "    .dataframe tbody tr th {\n",
       "        vertical-align: top;\n",
       "    }\n",
       "\n",
       "    .dataframe thead th {\n",
       "        text-align: right;\n",
       "    }\n",
       "</style>\n",
       "<table border=\"1\" class=\"dataframe\">\n",
       "  <thead>\n",
       "    <tr style=\"text-align: right;\">\n",
       "      <th></th>\n",
       "      <th>Square</th>\n",
       "      <th>LifeSquare</th>\n",
       "      <th>KitchenSquare</th>\n",
       "    </tr>\n",
       "  </thead>\n",
       "  <tbody>\n",
       "    <tr>\n",
       "      <th>count</th>\n",
       "      <td>10000.000000</td>\n",
       "      <td>7887.000000</td>\n",
       "      <td>10000.000000</td>\n",
       "    </tr>\n",
       "    <tr>\n",
       "      <th>mean</th>\n",
       "      <td>56.315720</td>\n",
       "      <td>37.199665</td>\n",
       "      <td>6.273300</td>\n",
       "    </tr>\n",
       "    <tr>\n",
       "      <th>std</th>\n",
       "      <td>21.058716</td>\n",
       "      <td>86.241219</td>\n",
       "      <td>28.560839</td>\n",
       "    </tr>\n",
       "    <tr>\n",
       "      <th>min</th>\n",
       "      <td>1.136859</td>\n",
       "      <td>0.370619</td>\n",
       "      <td>0.000000</td>\n",
       "    </tr>\n",
       "    <tr>\n",
       "      <th>25%</th>\n",
       "      <td>41.774879</td>\n",
       "      <td>22.769833</td>\n",
       "      <td>1.000000</td>\n",
       "    </tr>\n",
       "    <tr>\n",
       "      <th>50%</th>\n",
       "      <td>52.513309</td>\n",
       "      <td>32.781261</td>\n",
       "      <td>6.000000</td>\n",
       "    </tr>\n",
       "    <tr>\n",
       "      <th>75%</th>\n",
       "      <td>65.900627</td>\n",
       "      <td>45.128803</td>\n",
       "      <td>9.000000</td>\n",
       "    </tr>\n",
       "    <tr>\n",
       "      <th>max</th>\n",
       "      <td>641.065186</td>\n",
       "      <td>7480.592285</td>\n",
       "      <td>2014.000000</td>\n",
       "    </tr>\n",
       "  </tbody>\n",
       "</table>\n",
       "</div>"
      ],
      "text/plain": [
       "             Square   LifeSquare  KitchenSquare\n",
       "count  10000.000000  7887.000000   10000.000000\n",
       "mean      56.315720    37.199665       6.273300\n",
       "std       21.058716    86.241219      28.560839\n",
       "min        1.136859     0.370619       0.000000\n",
       "25%       41.774879    22.769833       1.000000\n",
       "50%       52.513309    32.781261       6.000000\n",
       "75%       65.900627    45.128803       9.000000\n",
       "max      641.065186  7480.592285    2014.000000"
      ]
     },
     "execution_count": 35,
     "metadata": {},
     "output_type": "execute_result"
    }
   ],
   "source": [
    "df[['Square', 'LifeSquare', 'KitchenSquare']].describe()"
   ]
  },
  {
   "cell_type": "markdown",
   "metadata": {},
   "source": [
    "У многих признаков есть выбросы и пропуски, надо решить проблему"
   ]
  },
  {
   "cell_type": "code",
   "execution_count": 36,
   "metadata": {},
   "outputs": [
    {
     "data": {
      "text/html": [
       "<div>\n",
       "<style scoped>\n",
       "    .dataframe tbody tr th:only-of-type {\n",
       "        vertical-align: middle;\n",
       "    }\n",
       "\n",
       "    .dataframe tbody tr th {\n",
       "        vertical-align: top;\n",
       "    }\n",
       "\n",
       "    .dataframe thead th {\n",
       "        text-align: right;\n",
       "    }\n",
       "</style>\n",
       "<table border=\"1\" class=\"dataframe\">\n",
       "  <thead>\n",
       "    <tr style=\"text-align: right;\">\n",
       "      <th></th>\n",
       "      <th>Square</th>\n",
       "      <th>LifeSquare</th>\n",
       "      <th>KitchenSquare</th>\n",
       "    </tr>\n",
       "  </thead>\n",
       "  <tbody>\n",
       "    <tr>\n",
       "      <th>0</th>\n",
       "      <td>115.027313</td>\n",
       "      <td>NaN</td>\n",
       "      <td>10.0</td>\n",
       "    </tr>\n",
       "    <tr>\n",
       "      <th>1</th>\n",
       "      <td>39.832523</td>\n",
       "      <td>23.169222</td>\n",
       "      <td>8.0</td>\n",
       "    </tr>\n",
       "    <tr>\n",
       "      <th>2</th>\n",
       "      <td>78.342216</td>\n",
       "      <td>47.671970</td>\n",
       "      <td>10.0</td>\n",
       "    </tr>\n",
       "    <tr>\n",
       "      <th>3</th>\n",
       "      <td>40.409908</td>\n",
       "      <td>NaN</td>\n",
       "      <td>1.0</td>\n",
       "    </tr>\n",
       "    <tr>\n",
       "      <th>4</th>\n",
       "      <td>64.285065</td>\n",
       "      <td>38.562515</td>\n",
       "      <td>9.0</td>\n",
       "    </tr>\n",
       "  </tbody>\n",
       "</table>\n",
       "</div>"
      ],
      "text/plain": [
       "       Square  LifeSquare  KitchenSquare\n",
       "0  115.027313         NaN           10.0\n",
       "1   39.832523   23.169222            8.0\n",
       "2   78.342216   47.671970           10.0\n",
       "3   40.409908         NaN            1.0\n",
       "4   64.285065   38.562515            9.0"
      ]
     },
     "execution_count": 36,
     "metadata": {},
     "output_type": "execute_result"
    }
   ],
   "source": [
    "df[['Square', 'LifeSquare', 'KitchenSquare']].head()"
   ]
  },
  {
   "cell_type": "code",
   "execution_count": 37,
   "metadata": {},
   "outputs": [
    {
     "name": "stdout",
     "output_type": "stream",
     "text": [
      "32.10518369674683 100.90624904632566\n"
     ]
    }
   ],
   "source": [
    "print(df['Square'].quantile(.025), df['Square'].quantile(.975))"
   ]
  },
  {
   "cell_type": "code",
   "execution_count": 38,
   "metadata": {},
   "outputs": [],
   "source": [
    "condition = (df['Square'].isna()) | (df['Square'] > 210)\n",
    "        \n",
    "df.loc[condition, 'Square'] = df['Square'].median()\n",
    "\n",
    "df.loc[df['Square'] < 0, 'Square'] = 0"
   ]
  },
  {
   "cell_type": "code",
   "execution_count": 39,
   "metadata": {},
   "outputs": [
    {
     "data": {
      "image/png": "[encoded data removed]",
      "text/plain": [
       "<Figure size 864x432 with 1 Axes>"
      ]
     },
     "metadata": {
      "needs_background": "light"
     },
     "output_type": "display_data"
    },
    {
     "name": "stdout",
     "output_type": "stream",
     "text": [
      "\tMean= 56.13    Median= 52.513038635253906    Mode= 52.513309478759766\n"
     ]
    }
   ],
   "source": [
    "feature_distribution('Square')"
   ]
  },
  {
   "cell_type": "markdown",
   "metadata": {},
   "source": [
    "При попытке решения проблемы KitchenSquare и LifeSquare существовала проблема, что при обработке выбросов и пропусков, заменив значения медианой, результаты меняются резко и получаются очень грубые закономерности"
   ]
  },
  {
   "cell_type": "code",
   "execution_count": 40,
   "metadata": {
    "scrolled": true
   },
   "outputs": [
    {
     "data": {
      "text/plain": [
       "1.0       2460\n",
       "8.0       1306\n",
       "5.0       1169\n",
       "10.0      1075\n",
       "6.0       1038\n",
       "9.0        843\n",
       "0.0        697\n",
       "7.0        609\n",
       "12.0       249\n",
       "11.0       233\n",
       "13.0        67\n",
       "14.0        51\n",
       "4.0         39\n",
       "15.0        31\n",
       "3.0         22\n",
       "16.0        16\n",
       "20.0        14\n",
       "17.0        12\n",
       "19.0        11\n",
       "18.0         6\n",
       "2.0          4\n",
       "22.0         3\n",
       "43.0         2\n",
       "112.0        2\n",
       "41.0         2\n",
       "32.0         2\n",
       "58.0         2\n",
       "25.0         2\n",
       "37.0         2\n",
       "30.0         2\n",
       "51.0         2\n",
       "40.0         1\n",
       "96.0         1\n",
       "48.0         1\n",
       "72.0         1\n",
       "73.0         1\n",
       "2014.0       1\n",
       "66.0         1\n",
       "36.0         1\n",
       "78.0         1\n",
       "54.0         1\n",
       "29.0         1\n",
       "31.0         1\n",
       "35.0         1\n",
       "62.0         1\n",
       "39.0         1\n",
       "1970.0       1\n",
       "60.0         1\n",
       "75.0         1\n",
       "26.0         1\n",
       "21.0         1\n",
       "84.0         1\n",
       "63.0         1\n",
       "123.0        1\n",
       "53.0         1\n",
       "42.0         1\n",
       "23.0         1\n",
       "27.0         1\n",
       "Name: KitchenSquare, dtype: int64"
      ]
     },
     "execution_count": 40,
     "metadata": {},
     "output_type": "execute_result"
    }
   ],
   "source": [
    "df['KitchenSquare'].value_counts()"
   ]
  },
  {
   "cell_type": "markdown",
   "metadata": {},
   "source": [
    "Мы обнаружили, что Kitchensquare > Square, что не может быть правдой"
   ]
  },
  {
   "cell_type": "code",
   "execution_count": 41,
   "metadata": {},
   "outputs": [
    {
     "data": {
      "text/plain": [
       "4"
      ]
     },
     "execution_count": 41,
     "metadata": {},
     "output_type": "execute_result"
    }
   ],
   "source": [
    "df.loc[(df['KitchenSquare'] > df['Square']), 'Square'].count() "
   ]
  },
  {
   "cell_type": "code",
   "execution_count": 42,
   "metadata": {},
   "outputs": [
    {
     "data": {
      "text/plain": [
       "(13.0, 0.0)"
      ]
     },
     "execution_count": 42,
     "metadata": {},
     "output_type": "execute_result"
    }
   ],
   "source": [
    "df['KitchenSquare'].quantile(.975), df['KitchenSquare'].quantile(.025)"
   ]
  },
  {
   "cell_type": "code",
   "execution_count": 43,
   "metadata": {},
   "outputs": [],
   "source": [
    "condition = (df['KitchenSquare'].isna()) \\\n",
    "             | (df['KitchenSquare'] > df['KitchenSquare'].quantile(.975))\n",
    "        \n",
    "df.loc[condition, 'KitchenSquare'] = df['KitchenSquare'].median()\n",
    "\n",
    "df.loc[df['KitchenSquare'] < 3, 'KitchenSquare'] = 3"
   ]
  },
  {
   "cell_type": "code",
   "execution_count": 44,
   "metadata": {},
   "outputs": [
    {
     "data": {
      "image/png": "[encoded data removed]",
      "text/plain": [
       "<Figure size 864x432 with 1 Axes>"
      ]
     },
     "metadata": {
      "needs_background": "light"
     },
     "output_type": "display_data"
    },
    {
     "name": "stdout",
     "output_type": "stream",
     "text": [
      "\tMean= 6.24    Median= 6.0    Mode= 3.0\n"
     ]
    }
   ],
   "source": [
    "feature_distribution('KitchenSquare')"
   ]
  },
  {
   "cell_type": "markdown",
   "metadata": {},
   "source": [
    "Мы обнаружили, что Lifesquare > Square, что не может быть правдой"
   ]
  },
  {
   "cell_type": "code",
   "execution_count": 45,
   "metadata": {},
   "outputs": [
    {
     "data": {
      "text/plain": [
       "0"
      ]
     },
     "execution_count": 45,
     "metadata": {},
     "output_type": "execute_result"
    }
   ],
   "source": [
    "df['LifeSquare_nan'] = df['LifeSquare'].isna() * 1  \n",
    "df.loc[df['LifeSquare_nan'] == 1, 'LifeSquare'] = 0  \n",
    "df['LifeSquare'].isna().sum()"
   ]
  },
  {
   "cell_type": "code",
   "execution_count": 46,
   "metadata": {},
   "outputs": [
    {
     "data": {
      "text/html": [
       "<div>\n",
       "<style scoped>\n",
       "    .dataframe tbody tr th:only-of-type {\n",
       "        vertical-align: middle;\n",
       "    }\n",
       "\n",
       "    .dataframe tbody tr th {\n",
       "        vertical-align: top;\n",
       "    }\n",
       "\n",
       "    .dataframe thead th {\n",
       "        text-align: right;\n",
       "    }\n",
       "</style>\n",
       "<table border=\"1\" class=\"dataframe\">\n",
       "  <thead>\n",
       "    <tr style=\"text-align: right;\">\n",
       "      <th></th>\n",
       "      <th>LifeSquare</th>\n",
       "      <th>Square</th>\n",
       "      <th>KitchenSquare</th>\n",
       "      <th>Price</th>\n",
       "    </tr>\n",
       "  </thead>\n",
       "  <tbody>\n",
       "    <tr>\n",
       "      <th>8000</th>\n",
       "      <td>7480.592285</td>\n",
       "      <td>81.694420</td>\n",
       "      <td>3.0</td>\n",
       "      <td>217357.500000</td>\n",
       "    </tr>\n",
       "    <tr>\n",
       "      <th>9229</th>\n",
       "      <td>638.163208</td>\n",
       "      <td>52.513309</td>\n",
       "      <td>10.0</td>\n",
       "      <td>133529.687500</td>\n",
       "    </tr>\n",
       "    <tr>\n",
       "      <th>5183</th>\n",
       "      <td>461.463623</td>\n",
       "      <td>78.059334</td>\n",
       "      <td>10.0</td>\n",
       "      <td>394253.312500</td>\n",
       "    </tr>\n",
       "    <tr>\n",
       "      <th>7010</th>\n",
       "      <td>410.639740</td>\n",
       "      <td>52.513309</td>\n",
       "      <td>10.0</td>\n",
       "      <td>90470.429688</td>\n",
       "    </tr>\n",
       "    <tr>\n",
       "      <th>357</th>\n",
       "      <td>263.542023</td>\n",
       "      <td>48.449875</td>\n",
       "      <td>5.0</td>\n",
       "      <td>141780.234375</td>\n",
       "    </tr>\n",
       "    <tr>\n",
       "      <th>1906</th>\n",
       "      <td>233.949310</td>\n",
       "      <td>52.513309</td>\n",
       "      <td>6.0</td>\n",
       "      <td>455264.875000</td>\n",
       "    </tr>\n",
       "    <tr>\n",
       "      <th>7644</th>\n",
       "      <td>211.231125</td>\n",
       "      <td>52.513309</td>\n",
       "      <td>3.0</td>\n",
       "      <td>302211.250000</td>\n",
       "    </tr>\n",
       "    <tr>\n",
       "      <th>1776</th>\n",
       "      <td>201.627365</td>\n",
       "      <td>200.334534</td>\n",
       "      <td>6.0</td>\n",
       "      <td>528560.500000</td>\n",
       "    </tr>\n",
       "    <tr>\n",
       "      <th>5283</th>\n",
       "      <td>174.837082</td>\n",
       "      <td>174.649521</td>\n",
       "      <td>6.0</td>\n",
       "      <td>232766.187500</td>\n",
       "    </tr>\n",
       "    <tr>\n",
       "      <th>8872</th>\n",
       "      <td>170.713654</td>\n",
       "      <td>169.509933</td>\n",
       "      <td>3.0</td>\n",
       "      <td>200800.671875</td>\n",
       "    </tr>\n",
       "    <tr>\n",
       "      <th>6450</th>\n",
       "      <td>164.526764</td>\n",
       "      <td>162.587891</td>\n",
       "      <td>3.0</td>\n",
       "      <td>207407.359375</td>\n",
       "    </tr>\n",
       "    <tr>\n",
       "      <th>5712</th>\n",
       "      <td>164.153366</td>\n",
       "      <td>33.398983</td>\n",
       "      <td>6.0</td>\n",
       "      <td>104891.070312</td>\n",
       "    </tr>\n",
       "    <tr>\n",
       "      <th>3204</th>\n",
       "      <td>161.504227</td>\n",
       "      <td>163.495331</td>\n",
       "      <td>12.0</td>\n",
       "      <td>207007.953125</td>\n",
       "    </tr>\n",
       "    <tr>\n",
       "      <th>6030</th>\n",
       "      <td>161.155273</td>\n",
       "      <td>163.286972</td>\n",
       "      <td>3.0</td>\n",
       "      <td>228572.515625</td>\n",
       "    </tr>\n",
       "    <tr>\n",
       "      <th>730</th>\n",
       "      <td>153.685837</td>\n",
       "      <td>156.636581</td>\n",
       "      <td>3.0</td>\n",
       "      <td>502523.562500</td>\n",
       "    </tr>\n",
       "    <tr>\n",
       "      <th>6209</th>\n",
       "      <td>138.910187</td>\n",
       "      <td>135.164230</td>\n",
       "      <td>3.0</td>\n",
       "      <td>166687.734375</td>\n",
       "    </tr>\n",
       "    <tr>\n",
       "      <th>1614</th>\n",
       "      <td>138.004593</td>\n",
       "      <td>138.980820</td>\n",
       "      <td>6.0</td>\n",
       "      <td>169528.890625</td>\n",
       "    </tr>\n",
       "    <tr>\n",
       "      <th>8055</th>\n",
       "      <td>136.697189</td>\n",
       "      <td>137.907776</td>\n",
       "      <td>6.0</td>\n",
       "      <td>295412.625000</td>\n",
       "    </tr>\n",
       "    <tr>\n",
       "      <th>9767</th>\n",
       "      <td>136.215500</td>\n",
       "      <td>138.427689</td>\n",
       "      <td>3.0</td>\n",
       "      <td>268394.750000</td>\n",
       "    </tr>\n",
       "    <tr>\n",
       "      <th>5631</th>\n",
       "      <td>127.477135</td>\n",
       "      <td>125.287186</td>\n",
       "      <td>6.0</td>\n",
       "      <td>522197.031250</td>\n",
       "    </tr>\n",
       "  </tbody>\n",
       "</table>\n",
       "</div>"
      ],
      "text/plain": [
       "       LifeSquare      Square  KitchenSquare          Price\n",
       "8000  7480.592285   81.694420            3.0  217357.500000\n",
       "9229   638.163208   52.513309           10.0  133529.687500\n",
       "5183   461.463623   78.059334           10.0  394253.312500\n",
       "7010   410.639740   52.513309           10.0   90470.429688\n",
       "357    263.542023   48.449875            5.0  141780.234375\n",
       "1906   233.949310   52.513309            6.0  455264.875000\n",
       "7644   211.231125   52.513309            3.0  302211.250000\n",
       "1776   201.627365  200.334534            6.0  528560.500000\n",
       "5283   174.837082  174.649521            6.0  232766.187500\n",
       "8872   170.713654  169.509933            3.0  200800.671875\n",
       "6450   164.526764  162.587891            3.0  207407.359375\n",
       "5712   164.153366   33.398983            6.0  104891.070312\n",
       "3204   161.504227  163.495331           12.0  207007.953125\n",
       "6030   161.155273  163.286972            3.0  228572.515625\n",
       "730    153.685837  156.636581            3.0  502523.562500\n",
       "6209   138.910187  135.164230            3.0  166687.734375\n",
       "1614   138.004593  138.980820            6.0  169528.890625\n",
       "8055   136.697189  137.907776            6.0  295412.625000\n",
       "9767   136.215500  138.427689            3.0  268394.750000\n",
       "5631   127.477135  125.287186            6.0  522197.031250"
      ]
     },
     "execution_count": 46,
     "metadata": {},
     "output_type": "execute_result"
    }
   ],
   "source": [
    "df[['LifeSquare', 'Square', 'KitchenSquare', 'Price']].sort_values(by = 'LifeSquare', ascending=False).head(20)"
   ]
  },
  {
   "cell_type": "code",
   "execution_count": 47,
   "metadata": {},
   "outputs": [
    {
     "data": {
      "text/plain": [
       "(78.38594131469725, 3.0)"
      ]
     },
     "execution_count": 47,
     "metadata": {},
     "output_type": "execute_result"
    }
   ],
   "source": [
    "df['LifeSquare'].quantile(.975), df['KitchenSquare'].quantile(.025)"
   ]
  },
  {
   "cell_type": "code",
   "execution_count": 48,
   "metadata": {},
   "outputs": [],
   "source": [
    "# Здесь решил пройтись вручную, ибо квантили дают не очень точный результат\n",
    "feature_label('LifeSquare', 'outlier')\n",
    "df.loc[df['LifeSquare'] > 210, 'LifeSquare_outlier'] = 1 \n",
    "df.loc[df['LifeSquare'] > 210, 'LifeSquare'] = 0 "
   ]
  },
  {
   "cell_type": "code",
   "execution_count": 49,
   "metadata": {},
   "outputs": [
    {
     "data": {
      "text/plain": [
       "478"
      ]
     },
     "execution_count": 49,
     "metadata": {},
     "output_type": "execute_result"
    }
   ],
   "source": [
    "df.loc[(df['LifeSquare'] > df['Square']), 'Square'].count() "
   ]
  },
  {
   "cell_type": "code",
   "execution_count": 50,
   "metadata": {},
   "outputs": [],
   "source": [
    "feature_label('Square', 'swap')\n",
    "df.loc[(df['LifeSquare'] > df['Square']), 'Square_swap'] = 1\n",
    "df.loc[(df['Square_swap'] == 1), ['Square', 'LifeSquare']] = df.loc[(df['Square_swap'] == 1), ['LifeSquare', 'Square']].values"
   ]
  },
  {
   "cell_type": "code",
   "execution_count": 51,
   "metadata": {},
   "outputs": [
    {
     "data": {
      "text/plain": [
       "0"
      ]
     },
     "execution_count": 51,
     "metadata": {},
     "output_type": "execute_result"
    }
   ],
   "source": [
    "df.loc[(df['LifeSquare'] > df['Square']), 'Square'].count() "
   ]
  },
  {
   "cell_type": "code",
   "execution_count": 52,
   "metadata": {},
   "outputs": [],
   "source": [
    "feature_label('LifeSquare', 'outlier')\n",
    "condition = (df['LifeSquare'] == 0) | (~(df['LifeSquare'] < df['Square'] - df['KitchenSquare']) & (df['Square'] - df['KitchenSquare']> 0))\n",
    "df.loc[condition, 'LifeSquare_outlier'] = 1\n",
    "df.loc[condition, 'LifeSquare'] = df['Square'] - df['KitchenSquare']"
   ]
  },
  {
   "cell_type": "code",
   "execution_count": 53,
   "metadata": {
    "scrolled": true
   },
   "outputs": [
    {
     "data": {
      "image/png": "[encoded data removed]",
      "text/plain": [
       "<Figure size 864x432 with 1 Axes>"
      ]
     },
     "metadata": {
      "needs_background": "light"
     },
     "output_type": "display_data"
    },
    {
     "name": "stdout",
     "output_type": "stream",
     "text": [
      "\tMean= 39.92    Median= 35.998260498046875    Mode= 33.85965347290039\n"
     ]
    }
   ],
   "source": [
    "feature_distribution('LifeSquare')"
   ]
  },
  {
   "cell_type": "markdown",
   "metadata": {},
   "source": [
    "HouseFloor, Floor\n",
    "\n",
    "Пропусков у признаков не имеется\n"
   ]
  },
  {
   "cell_type": "code",
   "execution_count": 54,
   "metadata": {},
   "outputs": [
    {
     "data": {
      "text/plain": [
       "2768      0.0\n",
       "1928      0.0\n",
       "5104      0.0\n",
       "6870      0.0\n",
       "6860      0.0\n",
       "        ...  \n",
       "5031     48.0\n",
       "4987     48.0\n",
       "746      99.0\n",
       "4657     99.0\n",
       "1678    117.0\n",
       "Name: HouseFloor, Length: 10000, dtype: float32"
      ]
     },
     "execution_count": 54,
     "metadata": {},
     "output_type": "execute_result"
    }
   ],
   "source": [
    "df['HouseFloor'].sort_values()"
   ]
  },
  {
   "cell_type": "code",
   "execution_count": 55,
   "metadata": {},
   "outputs": [
    {
     "data": {
      "text/plain": [
       "array([ 1,  2,  3,  4,  5,  6,  7,  8,  9, 10, 11, 12, 13, 14, 15, 16, 17,\n",
       "       18, 19, 20, 21, 22, 23, 24, 25, 26, 27, 28, 31, 32, 33, 37, 42],\n",
       "      dtype=int8)"
      ]
     },
     "execution_count": 55,
     "metadata": {},
     "output_type": "execute_result"
    }
   ],
   "source": [
    "df['Floor'].sort_values().unique()"
   ]
  },
  {
   "cell_type": "code",
   "execution_count": 56,
   "metadata": {},
   "outputs": [
    {
     "data": {
      "image/png": "[encoded data removed]",
      "text/plain": [
       "<Figure size 864x432 with 1 Axes>"
      ]
     },
     "metadata": {
      "needs_background": "light"
     },
     "output_type": "display_data"
    },
    {
     "name": "stdout",
     "output_type": "stream",
     "text": [
      "\tMean= 12.61    Median= 13.0    Mode= 17.0\n"
     ]
    }
   ],
   "source": [
    "feature_distribution('HouseFloor')"
   ]
  },
  {
   "cell_type": "code",
   "execution_count": 57,
   "metadata": {},
   "outputs": [
    {
     "data": {
      "text/html": [
       "<div>\n",
       "<style scoped>\n",
       "    .dataframe tbody tr th:only-of-type {\n",
       "        vertical-align: middle;\n",
       "    }\n",
       "\n",
       "    .dataframe tbody tr th {\n",
       "        vertical-align: top;\n",
       "    }\n",
       "\n",
       "    .dataframe thead th {\n",
       "        text-align: right;\n",
       "    }\n",
       "</style>\n",
       "<table border=\"1\" class=\"dataframe\">\n",
       "  <thead>\n",
       "    <tr style=\"text-align: right;\">\n",
       "      <th></th>\n",
       "      <th>HouseFloor</th>\n",
       "      <th>Floor</th>\n",
       "    </tr>\n",
       "  </thead>\n",
       "  <tbody>\n",
       "    <tr>\n",
       "      <th>24</th>\n",
       "      <td>0.0</td>\n",
       "      <td>2</td>\n",
       "    </tr>\n",
       "    <tr>\n",
       "      <th>152</th>\n",
       "      <td>0.0</td>\n",
       "      <td>14</td>\n",
       "    </tr>\n",
       "    <tr>\n",
       "      <th>159</th>\n",
       "      <td>0.0</td>\n",
       "      <td>6</td>\n",
       "    </tr>\n",
       "    <tr>\n",
       "      <th>186</th>\n",
       "      <td>0.0</td>\n",
       "      <td>8</td>\n",
       "    </tr>\n",
       "    <tr>\n",
       "      <th>229</th>\n",
       "      <td>0.0</td>\n",
       "      <td>15</td>\n",
       "    </tr>\n",
       "    <tr>\n",
       "      <th>...</th>\n",
       "      <td>...</td>\n",
       "      <td>...</td>\n",
       "    </tr>\n",
       "    <tr>\n",
       "      <th>9889</th>\n",
       "      <td>0.0</td>\n",
       "      <td>2</td>\n",
       "    </tr>\n",
       "    <tr>\n",
       "      <th>9931</th>\n",
       "      <td>0.0</td>\n",
       "      <td>14</td>\n",
       "    </tr>\n",
       "    <tr>\n",
       "      <th>9940</th>\n",
       "      <td>0.0</td>\n",
       "      <td>8</td>\n",
       "    </tr>\n",
       "    <tr>\n",
       "      <th>9950</th>\n",
       "      <td>0.0</td>\n",
       "      <td>3</td>\n",
       "    </tr>\n",
       "    <tr>\n",
       "      <th>9996</th>\n",
       "      <td>0.0</td>\n",
       "      <td>13</td>\n",
       "    </tr>\n",
       "  </tbody>\n",
       "</table>\n",
       "<p>269 rows × 2 columns</p>\n",
       "</div>"
      ],
      "text/plain": [
       "      HouseFloor  Floor\n",
       "24           0.0      2\n",
       "152          0.0     14\n",
       "159          0.0      6\n",
       "186          0.0      8\n",
       "229          0.0     15\n",
       "...          ...    ...\n",
       "9889         0.0      2\n",
       "9931         0.0     14\n",
       "9940         0.0      8\n",
       "9950         0.0      3\n",
       "9996         0.0     13\n",
       "\n",
       "[269 rows x 2 columns]"
      ]
     },
     "execution_count": 57,
     "metadata": {},
     "output_type": "execute_result"
    }
   ],
   "source": [
    "df.loc[df['HouseFloor'] == 0, ['HouseFloor', 'Floor']]"
   ]
  },
  {
   "cell_type": "markdown",
   "metadata": {},
   "source": [
    "Нулевые значения дома заменим на медианное значение. Сделаем упрощение, что количествоэтажей не больше 50, большие заменим на 50"
   ]
  },
  {
   "cell_type": "code",
   "execution_count": 58,
   "metadata": {},
   "outputs": [],
   "source": [
    "df['HouseFloor_outlier'] = 0\n",
    "df.loc[(df['HouseFloor'] == 0) | (df['HouseFloor'] > 50), 'HouseFloor_outlier'] = 1\n",
    "\n",
    "housefloor_median = df['HouseFloor'].median()\n",
    "df.loc[(df['HouseFloor'] == 0) & (df['Floor'] < housefloor_median), 'HouseFloor'] = housefloor_median\n",
    "df.loc[(df['HouseFloor'] == 0), 'HouseFloor'] = df.loc[(df['HouseFloor'] == 0), 'Floor']\n",
    "\n",
    "df.loc[(df['HouseFloor'] > 50), 'HouseFloor'] = 50"
   ]
  },
  {
   "cell_type": "code",
   "execution_count": 59,
   "metadata": {},
   "outputs": [
    {
     "data": {
      "text/plain": [
       "1556"
      ]
     },
     "execution_count": 59,
     "metadata": {},
     "output_type": "execute_result"
    }
   ],
   "source": [
    "(df['Floor'] > df['HouseFloor']).sum()"
   ]
  },
  {
   "cell_type": "code",
   "execution_count": 60,
   "metadata": {},
   "outputs": [],
   "source": [
    "df.loc[df['Floor'] > df['HouseFloor'], 'HouseFloor_outlier'] = 1"
   ]
  },
  {
   "cell_type": "markdown",
   "metadata": {},
   "source": [
    "HouseFloor < Floor не может быть , поэтому заменим значения"
   ]
  },
  {
   "cell_type": "code",
   "execution_count": 61,
   "metadata": {},
   "outputs": [],
   "source": [
    "df['Floor_swap'] = 0\n",
    "df['Floor_swap'] = df['Floor_swap'].astype(np.int8)\n",
    "df.loc[(df['HouseFloor'] < df['Floor']), 'Floor_swap'] = 1\n",
    "df.loc[(df['Floor_swap'] == 1), ['HouseFloor', 'Floor']] \\\n",
    "= df.loc[(df['Floor_swap'] == 1), ['Floor', 'HouseFloor']].values"
   ]
  },
  {
   "cell_type": "code",
   "execution_count": 62,
   "metadata": {},
   "outputs": [
    {
     "data": {
      "text/plain": [
       "0"
      ]
     },
     "execution_count": 62,
     "metadata": {},
     "output_type": "execute_result"
    }
   ],
   "source": [
    "(df['Floor'] > df['HouseFloor']).sum()"
   ]
  },
  {
   "cell_type": "markdown",
   "metadata": {},
   "source": [
    "# Обработка оставшихся пропусков #"
   ]
  },
  {
   "cell_type": "code",
   "execution_count": 63,
   "metadata": {},
   "outputs": [],
   "source": [
    "df.drop('Healthcare_1', axis=1, inplace=True)"
   ]
  },
  {
   "cell_type": "code",
   "execution_count": 64,
   "metadata": {},
   "outputs": [
    {
     "data": {
      "text/plain": [
       "Id                    0\n",
       "DistrictId            0\n",
       "Rooms                 0\n",
       "Square                0\n",
       "LifeSquare            0\n",
       "KitchenSquare         0\n",
       "Floor                 0\n",
       "HouseFloor            0\n",
       "HouseYear             0\n",
       "Ecology_1             0\n",
       "Ecology_2             0\n",
       "Ecology_3             0\n",
       "Social_1              0\n",
       "Social_2              0\n",
       "Social_3              0\n",
       "Helthcare_2           0\n",
       "Shops_1               0\n",
       "Shops_2               0\n",
       "Price                 0\n",
       "Rooms_outlier         0\n",
       "LifeSquare_nan        0\n",
       "LifeSquare_outlier    0\n",
       "Square_swap           0\n",
       "HouseFloor_outlier    0\n",
       "Floor_swap            0\n",
       "dtype: int64"
      ]
     },
     "execution_count": 64,
     "metadata": {},
     "output_type": "execute_result"
    }
   ],
   "source": [
    "df.isna().sum()"
   ]
  },
  {
   "cell_type": "code",
   "execution_count": 65,
   "metadata": {},
   "outputs": [],
   "source": [
    "class DataPreprocessing:\n",
    "    \"\"\"Подготовка исходных данных\"\"\"\n",
    "    \n",
    "\n",
    "    def __init__(self):\n",
    "        \"\"\"Параметры класса\"\"\"\n",
    "        self.medians=None\n",
    "        self.housefloor_median = None\n",
    "        self.houseyear_median = None\n",
    "        self.square_median = None\n",
    "        self.rooms_quantile = None \n",
    "        self.square_quantile = None\n",
    "        self.kitchen_square_quantile = None\n",
    "        \n",
    "    def fit(self, X):\n",
    "        \"\"\"Сохранение статистик\"\"\"       \n",
    "        # Расчет медиан\n",
    "        self.medians = X.median()\n",
    "        self.housefloor_median = X['HouseFloor'].median()\n",
    "        self.houseyear_median = X['HouseYear'].median()\n",
    "        self.square_median = X['Square'].median()\n",
    "        self.rooms_quantile975 = X['Rooms'].quantile(.975)\n",
    "        self.rooms_quantile025 = X['Rooms'].quantile(.025)\n",
    "        self.kitchen_square_quantile975 = X['KitchenSquare'].quantile(.975)\n",
    "        self.kitchen_square_quantile025 = X['KitchenSquare'].quantile(.025)\n",
    "        \n",
    "    def transform(self, X):\n",
    "        \"\"\"Трансформация данных\"\"\"\n",
    "        \n",
    "        # Rooms\n",
    "        X['Rooms_outlier'] = 0\n",
    "        X.loc[(X['Rooms'] == 0) | (X['Rooms'] >= 6), 'Rooms_outlier'] = 1\n",
    "        \n",
    "        X.loc[(X['Rooms'] >= 6), 'Rooms'] = self.rooms_quantile975\n",
    "        \n",
    "        X.loc[X['Rooms'] == 0, 'Rooms'] = self.rooms_quantile025\n",
    "        \n",
    "        # HouseYear\n",
    "        current_year = datetime.now().year\n",
    "        \n",
    "        X['HouseYear_outlier'] = 0\n",
    "        X.loc[X['HouseYear'] > current_year, 'HouseYear_outlier'] = 1\n",
    "        \n",
    "        X.loc[X['HouseYear'] > current_year, 'HouseYear'] = current_year\n",
    "        \n",
    "        # Square, LifeSquare, KitchenSquare\n",
    "\n",
    "        condition = (X['Square'].isna()) | (X['Square'] > 210)\n",
    "        \n",
    "        X.loc[condition, 'Square'] = X['Square'].median()\n",
    "\n",
    "        X.loc[X['Square'] < 0, 'Square'] = 0\n",
    "        \n",
    "        condition = (X['KitchenSquare'].isna()) \\\n",
    "                    | (X['KitchenSquare'] > self.kitchen_square_quantile)\n",
    "        \n",
    "        X.loc[condition, 'KitchenSquare'] = self.medians['KitchenSquare']\n",
    "\n",
    "        X.loc[X['KitchenSquare'] < 3, 'KitchenSquare'] = 3\n",
    "        \n",
    "        X['LifeSquare_nan'] = X['LifeSquare'].isna() * 1  \n",
    "        X.loc[X['LifeSquare_nan'] == 1, 'LifeSquare'] = 0  \n",
    "        X['LifeSquare'].isna().sum()\n",
    "        \n",
    "        feature_label('Square', 'swap')\n",
    "        X.loc[(X['LifeSquare'] > X['Square']), 'Square_swap'] = 1\n",
    "        X.loc[(X['Square_swap'] == 1), ['Square', 'LifeSquare']] = X.loc[(X['Square_swap'] == 1), ['LifeSquare', 'Square']].values\n",
    "        \n",
    "        feature_label('LifeSquare', 'outlier')\n",
    "        condition = (X['LifeSquare'] == 0) | (~(X['LifeSquare'] < X['Square'] - X['KitchenSquare']) & (X['Square'] - X['KitchenSquare']> 0))\n",
    "        X.loc[condition, 'LifeSquare_outlier'] = 1\n",
    "        X.loc[condition, 'LifeSquare'] = X['Square'] - X['KitchenSquare']\n",
    "        \n",
    "        # HouseFloor, Floor\n",
    "        X['HouseFloor_outlier'] = 0\n",
    "        X['HouseFloor_outlier'] = X['HouseFloor_outlier'].astype(np.int8)\n",
    "        \n",
    "        X.loc[(X['HouseFloor'] == 0) | (X['HouseFloor'] >50), 'HouseFloor_outlier'] = 1\n",
    "        \n",
    "        X.loc[(X['HouseFloor'] == 0) & (X['Floor'] < housefloor_median), 'HouseFloor'] \\\n",
    "        = self.housefloor_median\n",
    "        X.loc[(X['HouseFloor'] == 0), 'HouseFloor'] = X.loc[(X['HouseFloor'] == 0), 'Floor']                                        \n",
    "        \n",
    "        X['Floor_swap'] = 0\n",
    "        X['Floor_swap'] = X['Floor_swap'].astype(np.int8)\n",
    "        X.loc[(X['HouseFloor'] < X['Floor']), 'Floor_swap'] = 1\n",
    "        X.loc[(X['Floor_swap'] == 1), ['HouseFloor', 'Floor']] \\\n",
    "                 = X.loc[(X['Floor_swap'] == 1), ['Floor', 'HouseFloor']].values                                        \n",
    "        \n",
    "        # Healthcare_1\n",
    "        if 'Healthcare_1' in X.columns:\n",
    "            X.drop('Healthcare_1', axis=1, inplace=True)\n",
    "        \n",
    "        X.fillna(self.medians, inplace=True)\n",
    "        \n",
    "        return X"
   ]
  },
  {
   "cell_type": "markdown",
   "metadata": {},
   "source": [
    "# Построение новых признаков #"
   ]
  },
  {
   "cell_type": "markdown",
   "metadata": {},
   "source": [
    "Dummies"
   ]
  },
  {
   "cell_type": "code",
   "execution_count": 66,
   "metadata": {},
   "outputs": [],
   "source": [
    "binary_to_numbers = {'A': 0, 'B': 1}\n",
    "\n",
    "df['Ecology_2'] = df['Ecology_2'].replace(binary_to_numbers)\n",
    "df['Ecology_3'] = df['Ecology_3'].replace(binary_to_numbers)\n",
    "df['Shops_2'] = df['Shops_2'].replace(binary_to_numbers)"
   ]
  },
  {
   "cell_type": "markdown",
   "metadata": {},
   "source": [
    "DistrictSize \n",
    "IsDistrictLarge "
   ]
  },
  {
   "cell_type": "code",
   "execution_count": 67,
   "metadata": {},
   "outputs": [
    {
     "data": {
      "text/html": [
       "<div>\n",
       "<style scoped>\n",
       "    .dataframe tbody tr th:only-of-type {\n",
       "        vertical-align: middle;\n",
       "    }\n",
       "\n",
       "    .dataframe tbody tr th {\n",
       "        vertical-align: top;\n",
       "    }\n",
       "\n",
       "    .dataframe thead th {\n",
       "        text-align: right;\n",
       "    }\n",
       "</style>\n",
       "<table border=\"1\" class=\"dataframe\">\n",
       "  <thead>\n",
       "    <tr style=\"text-align: right;\">\n",
       "      <th></th>\n",
       "      <th>DistrictId</th>\n",
       "      <th>DistrictSize</th>\n",
       "    </tr>\n",
       "  </thead>\n",
       "  <tbody>\n",
       "    <tr>\n",
       "      <th>0</th>\n",
       "      <td>27</td>\n",
       "      <td>851</td>\n",
       "    </tr>\n",
       "    <tr>\n",
       "      <th>1</th>\n",
       "      <td>1</td>\n",
       "      <td>652</td>\n",
       "    </tr>\n",
       "    <tr>\n",
       "      <th>2</th>\n",
       "      <td>23</td>\n",
       "      <td>565</td>\n",
       "    </tr>\n",
       "    <tr>\n",
       "      <th>3</th>\n",
       "      <td>6</td>\n",
       "      <td>511</td>\n",
       "    </tr>\n",
       "    <tr>\n",
       "      <th>4</th>\n",
       "      <td>9</td>\n",
       "      <td>294</td>\n",
       "    </tr>\n",
       "  </tbody>\n",
       "</table>\n",
       "</div>"
      ],
      "text/plain": [
       "  DistrictId  DistrictSize\n",
       "0         27           851\n",
       "1          1           652\n",
       "2         23           565\n",
       "3          6           511\n",
       "4          9           294"
      ]
     },
     "execution_count": 67,
     "metadata": {},
     "output_type": "execute_result"
    }
   ],
   "source": [
    "district_size = df['DistrictId'].value_counts().reset_index()\\\n",
    "                    .rename(columns={'index':'DistrictId', 'DistrictId':'DistrictSize'})\n",
    "\n",
    "district_size['DistrictSize'] = district_size['DistrictSize'].astype(np.int16)\n",
    "district_size.head()"
   ]
  },
  {
   "cell_type": "code",
   "execution_count": 68,
   "metadata": {},
   "outputs": [
    {
     "data": {
      "text/html": [
       "<div>\n",
       "<style scoped>\n",
       "    .dataframe tbody tr th:only-of-type {\n",
       "        vertical-align: middle;\n",
       "    }\n",
       "\n",
       "    .dataframe tbody tr th {\n",
       "        vertical-align: top;\n",
       "    }\n",
       "\n",
       "    .dataframe thead th {\n",
       "        text-align: right;\n",
       "    }\n",
       "</style>\n",
       "<table border=\"1\" class=\"dataframe\">\n",
       "  <thead>\n",
       "    <tr style=\"text-align: right;\">\n",
       "      <th></th>\n",
       "      <th>Id</th>\n",
       "      <th>DistrictId</th>\n",
       "      <th>Rooms</th>\n",
       "      <th>Square</th>\n",
       "      <th>LifeSquare</th>\n",
       "      <th>KitchenSquare</th>\n",
       "      <th>Floor</th>\n",
       "      <th>HouseFloor</th>\n",
       "      <th>HouseYear</th>\n",
       "      <th>Ecology_1</th>\n",
       "      <th>...</th>\n",
       "      <th>Shops_1</th>\n",
       "      <th>Shops_2</th>\n",
       "      <th>Price</th>\n",
       "      <th>Rooms_outlier</th>\n",
       "      <th>LifeSquare_nan</th>\n",
       "      <th>LifeSquare_outlier</th>\n",
       "      <th>Square_swap</th>\n",
       "      <th>HouseFloor_outlier</th>\n",
       "      <th>Floor_swap</th>\n",
       "      <th>DistrictSize</th>\n",
       "    </tr>\n",
       "  </thead>\n",
       "  <tbody>\n",
       "    <tr>\n",
       "      <th>0</th>\n",
       "      <td>11809</td>\n",
       "      <td>27</td>\n",
       "      <td>3.0</td>\n",
       "      <td>115.027313</td>\n",
       "      <td>105.027313</td>\n",
       "      <td>10.0</td>\n",
       "      <td>4.0</td>\n",
       "      <td>10.0</td>\n",
       "      <td>2014</td>\n",
       "      <td>0.075424</td>\n",
       "      <td>...</td>\n",
       "      <td>0</td>\n",
       "      <td>1</td>\n",
       "      <td>305018.875000</td>\n",
       "      <td>0</td>\n",
       "      <td>1</td>\n",
       "      <td>1</td>\n",
       "      <td>0</td>\n",
       "      <td>0</td>\n",
       "      <td>0</td>\n",
       "      <td>851</td>\n",
       "    </tr>\n",
       "    <tr>\n",
       "      <th>1</th>\n",
       "      <td>3013</td>\n",
       "      <td>22</td>\n",
       "      <td>1.0</td>\n",
       "      <td>39.832523</td>\n",
       "      <td>23.169222</td>\n",
       "      <td>8.0</td>\n",
       "      <td>7.0</td>\n",
       "      <td>8.0</td>\n",
       "      <td>1966</td>\n",
       "      <td>0.118537</td>\n",
       "      <td>...</td>\n",
       "      <td>0</td>\n",
       "      <td>1</td>\n",
       "      <td>177734.546875</td>\n",
       "      <td>0</td>\n",
       "      <td>0</td>\n",
       "      <td>0</td>\n",
       "      <td>0</td>\n",
       "      <td>0</td>\n",
       "      <td>0</td>\n",
       "      <td>78</td>\n",
       "    </tr>\n",
       "    <tr>\n",
       "      <th>2</th>\n",
       "      <td>8215</td>\n",
       "      <td>1</td>\n",
       "      <td>3.0</td>\n",
       "      <td>78.342216</td>\n",
       "      <td>47.671970</td>\n",
       "      <td>10.0</td>\n",
       "      <td>2.0</td>\n",
       "      <td>17.0</td>\n",
       "      <td>1988</td>\n",
       "      <td>0.025609</td>\n",
       "      <td>...</td>\n",
       "      <td>1</td>\n",
       "      <td>1</td>\n",
       "      <td>282078.718750</td>\n",
       "      <td>0</td>\n",
       "      <td>0</td>\n",
       "      <td>0</td>\n",
       "      <td>0</td>\n",
       "      <td>0</td>\n",
       "      <td>0</td>\n",
       "      <td>652</td>\n",
       "    </tr>\n",
       "    <tr>\n",
       "      <th>3</th>\n",
       "      <td>2352</td>\n",
       "      <td>1</td>\n",
       "      <td>1.0</td>\n",
       "      <td>40.409908</td>\n",
       "      <td>37.409908</td>\n",
       "      <td>3.0</td>\n",
       "      <td>10.0</td>\n",
       "      <td>22.0</td>\n",
       "      <td>1977</td>\n",
       "      <td>0.007122</td>\n",
       "      <td>...</td>\n",
       "      <td>1</td>\n",
       "      <td>1</td>\n",
       "      <td>168106.000000</td>\n",
       "      <td>0</td>\n",
       "      <td>1</td>\n",
       "      <td>1</td>\n",
       "      <td>0</td>\n",
       "      <td>0</td>\n",
       "      <td>0</td>\n",
       "      <td>652</td>\n",
       "    </tr>\n",
       "    <tr>\n",
       "      <th>4</th>\n",
       "      <td>13866</td>\n",
       "      <td>94</td>\n",
       "      <td>2.0</td>\n",
       "      <td>64.285065</td>\n",
       "      <td>38.562515</td>\n",
       "      <td>9.0</td>\n",
       "      <td>16.0</td>\n",
       "      <td>16.0</td>\n",
       "      <td>1972</td>\n",
       "      <td>0.282798</td>\n",
       "      <td>...</td>\n",
       "      <td>6</td>\n",
       "      <td>1</td>\n",
       "      <td>343995.093750</td>\n",
       "      <td>0</td>\n",
       "      <td>0</td>\n",
       "      <td>0</td>\n",
       "      <td>0</td>\n",
       "      <td>0</td>\n",
       "      <td>0</td>\n",
       "      <td>89</td>\n",
       "    </tr>\n",
       "  </tbody>\n",
       "</table>\n",
       "<p>5 rows × 26 columns</p>\n",
       "</div>"
      ],
      "text/plain": [
       "      Id DistrictId  Rooms      Square  LifeSquare  KitchenSquare  Floor  \\\n",
       "0  11809         27    3.0  115.027313  105.027313           10.0    4.0   \n",
       "1   3013         22    1.0   39.832523   23.169222            8.0    7.0   \n",
       "2   8215          1    3.0   78.342216   47.671970           10.0    2.0   \n",
       "3   2352          1    1.0   40.409908   37.409908            3.0   10.0   \n",
       "4  13866         94    2.0   64.285065   38.562515            9.0   16.0   \n",
       "\n",
       "   HouseFloor  HouseYear  Ecology_1  ...  Shops_1  Shops_2          Price  \\\n",
       "0        10.0       2014   0.075424  ...        0        1  305018.875000   \n",
       "1         8.0       1966   0.118537  ...        0        1  177734.546875   \n",
       "2        17.0       1988   0.025609  ...        1        1  282078.718750   \n",
       "3        22.0       1977   0.007122  ...        1        1  168106.000000   \n",
       "4        16.0       1972   0.282798  ...        6        1  343995.093750   \n",
       "\n",
       "   Rooms_outlier  LifeSquare_nan  LifeSquare_outlier  Square_swap  \\\n",
       "0              0               1                   1            0   \n",
       "1              0               0                   0            0   \n",
       "2              0               0                   0            0   \n",
       "3              0               1                   1            0   \n",
       "4              0               0                   0            0   \n",
       "\n",
       "   HouseFloor_outlier  Floor_swap  DistrictSize  \n",
       "0                   0           0           851  \n",
       "1                   0           0            78  \n",
       "2                   0           0           652  \n",
       "3                   0           0           652  \n",
       "4                   0           0            89  \n",
       "\n",
       "[5 rows x 26 columns]"
      ]
     },
     "execution_count": 68,
     "metadata": {},
     "output_type": "execute_result"
    }
   ],
   "source": [
    "df = df.merge(district_size, on='DistrictId', how='left')\n",
    "df.head()"
   ]
  },
  {
   "cell_type": "code",
   "execution_count": 69,
   "metadata": {},
   "outputs": [
    {
     "data": {
      "text/plain": [
       "True     5069\n",
       "False    4931\n",
       "Name: DistrictSize, dtype: int64"
      ]
     },
     "execution_count": 69,
     "metadata": {},
     "output_type": "execute_result"
    }
   ],
   "source": [
    "(df['DistrictSize'] > 100).value_counts()"
   ]
  },
  {
   "cell_type": "code",
   "execution_count": 70,
   "metadata": {},
   "outputs": [],
   "source": [
    "df['IsDistrictLarge'] = (df['DistrictSize'] > 100).astype(np.int8)  "
   ]
  },
  {
   "cell_type": "markdown",
   "metadata": {},
   "source": [
    "MedSqPriceByDistrict"
   ]
  },
  {
   "cell_type": "code",
   "execution_count": 71,
   "metadata": {},
   "outputs": [
    {
     "data": {
      "text/html": [
       "<div>\n",
       "<style scoped>\n",
       "    .dataframe tbody tr th:only-of-type {\n",
       "        vertical-align: middle;\n",
       "    }\n",
       "\n",
       "    .dataframe tbody tr th {\n",
       "        vertical-align: top;\n",
       "    }\n",
       "\n",
       "    .dataframe thead th {\n",
       "        text-align: right;\n",
       "    }\n",
       "</style>\n",
       "<table border=\"1\" class=\"dataframe\">\n",
       "  <thead>\n",
       "    <tr style=\"text-align: right;\">\n",
       "      <th></th>\n",
       "      <th>Id</th>\n",
       "      <th>DistrictId</th>\n",
       "      <th>Rooms</th>\n",
       "      <th>Square</th>\n",
       "      <th>LifeSquare</th>\n",
       "      <th>KitchenSquare</th>\n",
       "      <th>Floor</th>\n",
       "      <th>HouseFloor</th>\n",
       "      <th>HouseYear</th>\n",
       "      <th>Ecology_1</th>\n",
       "      <th>...</th>\n",
       "      <th>Price</th>\n",
       "      <th>Rooms_outlier</th>\n",
       "      <th>LifeSquare_nan</th>\n",
       "      <th>LifeSquare_outlier</th>\n",
       "      <th>Square_swap</th>\n",
       "      <th>HouseFloor_outlier</th>\n",
       "      <th>Floor_swap</th>\n",
       "      <th>DistrictSize</th>\n",
       "      <th>IsDistrictLarge</th>\n",
       "      <th>MedSqPriceByDistrict</th>\n",
       "    </tr>\n",
       "  </thead>\n",
       "  <tbody>\n",
       "    <tr>\n",
       "      <th>0</th>\n",
       "      <td>11809</td>\n",
       "      <td>27</td>\n",
       "      <td>3.0</td>\n",
       "      <td>115.027313</td>\n",
       "      <td>105.027313</td>\n",
       "      <td>10.0</td>\n",
       "      <td>4.0</td>\n",
       "      <td>10.0</td>\n",
       "      <td>2014</td>\n",
       "      <td>0.075424</td>\n",
       "      <td>...</td>\n",
       "      <td>305018.875000</td>\n",
       "      <td>0</td>\n",
       "      <td>1</td>\n",
       "      <td>1</td>\n",
       "      <td>0</td>\n",
       "      <td>0</td>\n",
       "      <td>0</td>\n",
       "      <td>851</td>\n",
       "      <td>1</td>\n",
       "      <td>2707.686279</td>\n",
       "    </tr>\n",
       "    <tr>\n",
       "      <th>1</th>\n",
       "      <td>3013</td>\n",
       "      <td>22</td>\n",
       "      <td>1.0</td>\n",
       "      <td>39.832523</td>\n",
       "      <td>23.169222</td>\n",
       "      <td>8.0</td>\n",
       "      <td>7.0</td>\n",
       "      <td>8.0</td>\n",
       "      <td>1966</td>\n",
       "      <td>0.118537</td>\n",
       "      <td>...</td>\n",
       "      <td>177734.546875</td>\n",
       "      <td>0</td>\n",
       "      <td>0</td>\n",
       "      <td>0</td>\n",
       "      <td>0</td>\n",
       "      <td>0</td>\n",
       "      <td>0</td>\n",
       "      <td>78</td>\n",
       "      <td>0</td>\n",
       "      <td>3652.102051</td>\n",
       "    </tr>\n",
       "    <tr>\n",
       "      <th>2</th>\n",
       "      <td>8215</td>\n",
       "      <td>1</td>\n",
       "      <td>3.0</td>\n",
       "      <td>78.342216</td>\n",
       "      <td>47.671970</td>\n",
       "      <td>10.0</td>\n",
       "      <td>2.0</td>\n",
       "      <td>17.0</td>\n",
       "      <td>1988</td>\n",
       "      <td>0.025609</td>\n",
       "      <td>...</td>\n",
       "      <td>282078.718750</td>\n",
       "      <td>0</td>\n",
       "      <td>0</td>\n",
       "      <td>0</td>\n",
       "      <td>0</td>\n",
       "      <td>0</td>\n",
       "      <td>0</td>\n",
       "      <td>652</td>\n",
       "      <td>1</td>\n",
       "      <td>3159.496094</td>\n",
       "    </tr>\n",
       "    <tr>\n",
       "      <th>3</th>\n",
       "      <td>2352</td>\n",
       "      <td>1</td>\n",
       "      <td>1.0</td>\n",
       "      <td>40.409908</td>\n",
       "      <td>37.409908</td>\n",
       "      <td>3.0</td>\n",
       "      <td>10.0</td>\n",
       "      <td>22.0</td>\n",
       "      <td>1977</td>\n",
       "      <td>0.007122</td>\n",
       "      <td>...</td>\n",
       "      <td>168106.000000</td>\n",
       "      <td>0</td>\n",
       "      <td>1</td>\n",
       "      <td>1</td>\n",
       "      <td>0</td>\n",
       "      <td>0</td>\n",
       "      <td>0</td>\n",
       "      <td>652</td>\n",
       "      <td>1</td>\n",
       "      <td>3159.496094</td>\n",
       "    </tr>\n",
       "    <tr>\n",
       "      <th>4</th>\n",
       "      <td>13866</td>\n",
       "      <td>94</td>\n",
       "      <td>2.0</td>\n",
       "      <td>64.285065</td>\n",
       "      <td>38.562515</td>\n",
       "      <td>9.0</td>\n",
       "      <td>16.0</td>\n",
       "      <td>16.0</td>\n",
       "      <td>1972</td>\n",
       "      <td>0.282798</td>\n",
       "      <td>...</td>\n",
       "      <td>343995.093750</td>\n",
       "      <td>0</td>\n",
       "      <td>0</td>\n",
       "      <td>0</td>\n",
       "      <td>0</td>\n",
       "      <td>0</td>\n",
       "      <td>0</td>\n",
       "      <td>89</td>\n",
       "      <td>0</td>\n",
       "      <td>4176.484863</td>\n",
       "    </tr>\n",
       "    <tr>\n",
       "      <th>...</th>\n",
       "      <td>...</td>\n",
       "      <td>...</td>\n",
       "      <td>...</td>\n",
       "      <td>...</td>\n",
       "      <td>...</td>\n",
       "      <td>...</td>\n",
       "      <td>...</td>\n",
       "      <td>...</td>\n",
       "      <td>...</td>\n",
       "      <td>...</td>\n",
       "      <td>...</td>\n",
       "      <td>...</td>\n",
       "      <td>...</td>\n",
       "      <td>...</td>\n",
       "      <td>...</td>\n",
       "      <td>...</td>\n",
       "      <td>...</td>\n",
       "      <td>...</td>\n",
       "      <td>...</td>\n",
       "      <td>...</td>\n",
       "      <td>...</td>\n",
       "    </tr>\n",
       "    <tr>\n",
       "      <th>9995</th>\n",
       "      <td>1260</td>\n",
       "      <td>61</td>\n",
       "      <td>2.0</td>\n",
       "      <td>49.090729</td>\n",
       "      <td>33.272625</td>\n",
       "      <td>6.0</td>\n",
       "      <td>3.0</td>\n",
       "      <td>12.0</td>\n",
       "      <td>1981</td>\n",
       "      <td>0.300323</td>\n",
       "      <td>...</td>\n",
       "      <td>119367.453125</td>\n",
       "      <td>0</td>\n",
       "      <td>0</td>\n",
       "      <td>0</td>\n",
       "      <td>0</td>\n",
       "      <td>0</td>\n",
       "      <td>0</td>\n",
       "      <td>118</td>\n",
       "      <td>1</td>\n",
       "      <td>4291.717285</td>\n",
       "    </tr>\n",
       "    <tr>\n",
       "      <th>9996</th>\n",
       "      <td>16265</td>\n",
       "      <td>27</td>\n",
       "      <td>2.0</td>\n",
       "      <td>64.307686</td>\n",
       "      <td>37.038422</td>\n",
       "      <td>9.0</td>\n",
       "      <td>13.0</td>\n",
       "      <td>13.0</td>\n",
       "      <td>1977</td>\n",
       "      <td>0.072158</td>\n",
       "      <td>...</td>\n",
       "      <td>199715.156250</td>\n",
       "      <td>0</td>\n",
       "      <td>0</td>\n",
       "      <td>0</td>\n",
       "      <td>0</td>\n",
       "      <td>1</td>\n",
       "      <td>0</td>\n",
       "      <td>851</td>\n",
       "      <td>1</td>\n",
       "      <td>2707.686279</td>\n",
       "    </tr>\n",
       "    <tr>\n",
       "      <th>9997</th>\n",
       "      <td>2795</td>\n",
       "      <td>178</td>\n",
       "      <td>1.0</td>\n",
       "      <td>29.648056</td>\n",
       "      <td>16.555363</td>\n",
       "      <td>5.0</td>\n",
       "      <td>3.0</td>\n",
       "      <td>5.0</td>\n",
       "      <td>1958</td>\n",
       "      <td>0.460556</td>\n",
       "      <td>...</td>\n",
       "      <td>165953.906250</td>\n",
       "      <td>0</td>\n",
       "      <td>0</td>\n",
       "      <td>0</td>\n",
       "      <td>0</td>\n",
       "      <td>0</td>\n",
       "      <td>0</td>\n",
       "      <td>7</td>\n",
       "      <td>0</td>\n",
       "      <td>5097.301758</td>\n",
       "    </tr>\n",
       "    <tr>\n",
       "      <th>9998</th>\n",
       "      <td>14561</td>\n",
       "      <td>21</td>\n",
       "      <td>1.0</td>\n",
       "      <td>32.330292</td>\n",
       "      <td>22.326870</td>\n",
       "      <td>5.0</td>\n",
       "      <td>3.0</td>\n",
       "      <td>9.0</td>\n",
       "      <td>1969</td>\n",
       "      <td>0.194489</td>\n",
       "      <td>...</td>\n",
       "      <td>171842.406250</td>\n",
       "      <td>0</td>\n",
       "      <td>0</td>\n",
       "      <td>0</td>\n",
       "      <td>0</td>\n",
       "      <td>0</td>\n",
       "      <td>0</td>\n",
       "      <td>165</td>\n",
       "      <td>1</td>\n",
       "      <td>4062.599854</td>\n",
       "    </tr>\n",
       "    <tr>\n",
       "      <th>9999</th>\n",
       "      <td>7202</td>\n",
       "      <td>94</td>\n",
       "      <td>1.0</td>\n",
       "      <td>35.815475</td>\n",
       "      <td>22.301367</td>\n",
       "      <td>6.0</td>\n",
       "      <td>9.0</td>\n",
       "      <td>9.0</td>\n",
       "      <td>1975</td>\n",
       "      <td>0.127376</td>\n",
       "      <td>...</td>\n",
       "      <td>177685.625000</td>\n",
       "      <td>0</td>\n",
       "      <td>0</td>\n",
       "      <td>0</td>\n",
       "      <td>0</td>\n",
       "      <td>0</td>\n",
       "      <td>0</td>\n",
       "      <td>89</td>\n",
       "      <td>0</td>\n",
       "      <td>4176.484863</td>\n",
       "    </tr>\n",
       "  </tbody>\n",
       "</table>\n",
       "<p>10000 rows × 28 columns</p>\n",
       "</div>"
      ],
      "text/plain": [
       "         Id DistrictId  Rooms      Square  LifeSquare  KitchenSquare  Floor  \\\n",
       "0     11809         27    3.0  115.027313  105.027313           10.0    4.0   \n",
       "1      3013         22    1.0   39.832523   23.169222            8.0    7.0   \n",
       "2      8215          1    3.0   78.342216   47.671970           10.0    2.0   \n",
       "3      2352          1    1.0   40.409908   37.409908            3.0   10.0   \n",
       "4     13866         94    2.0   64.285065   38.562515            9.0   16.0   \n",
       "...     ...        ...    ...         ...         ...            ...    ...   \n",
       "9995   1260         61    2.0   49.090729   33.272625            6.0    3.0   \n",
       "9996  16265         27    2.0   64.307686   37.038422            9.0   13.0   \n",
       "9997   2795        178    1.0   29.648056   16.555363            5.0    3.0   \n",
       "9998  14561         21    1.0   32.330292   22.326870            5.0    3.0   \n",
       "9999   7202         94    1.0   35.815475   22.301367            6.0    9.0   \n",
       "\n",
       "      HouseFloor  HouseYear  Ecology_1  ...          Price  Rooms_outlier  \\\n",
       "0           10.0       2014   0.075424  ...  305018.875000              0   \n",
       "1            8.0       1966   0.118537  ...  177734.546875              0   \n",
       "2           17.0       1988   0.025609  ...  282078.718750              0   \n",
       "3           22.0       1977   0.007122  ...  168106.000000              0   \n",
       "4           16.0       1972   0.282798  ...  343995.093750              0   \n",
       "...          ...        ...        ...  ...            ...            ...   \n",
       "9995        12.0       1981   0.300323  ...  119367.453125              0   \n",
       "9996        13.0       1977   0.072158  ...  199715.156250              0   \n",
       "9997         5.0       1958   0.460556  ...  165953.906250              0   \n",
       "9998         9.0       1969   0.194489  ...  171842.406250              0   \n",
       "9999         9.0       1975   0.127376  ...  177685.625000              0   \n",
       "\n",
       "      LifeSquare_nan  LifeSquare_outlier  Square_swap  HouseFloor_outlier  \\\n",
       "0                  1                   1            0                   0   \n",
       "1                  0                   0            0                   0   \n",
       "2                  0                   0            0                   0   \n",
       "3                  1                   1            0                   0   \n",
       "4                  0                   0            0                   0   \n",
       "...              ...                 ...          ...                 ...   \n",
       "9995               0                   0            0                   0   \n",
       "9996               0                   0            0                   1   \n",
       "9997               0                   0            0                   0   \n",
       "9998               0                   0            0                   0   \n",
       "9999               0                   0            0                   0   \n",
       "\n",
       "      Floor_swap  DistrictSize  IsDistrictLarge  MedSqPriceByDistrict  \n",
       "0              0           851                1           2707.686279  \n",
       "1              0            78                0           3652.102051  \n",
       "2              0           652                1           3159.496094  \n",
       "3              0           652                1           3159.496094  \n",
       "4              0            89                0           4176.484863  \n",
       "...          ...           ...              ...                   ...  \n",
       "9995           0           118                1           4291.717285  \n",
       "9996           0           851                1           2707.686279  \n",
       "9997           0             7                0           5097.301758  \n",
       "9998           0           165                1           4062.599854  \n",
       "9999           0            89                0           4176.484863  \n",
       "\n",
       "[10000 rows x 28 columns]"
      ]
     },
     "execution_count": 71,
     "metadata": {},
     "output_type": "execute_result"
    }
   ],
   "source": [
    "med_sq_price_by_district = df.groupby(['DistrictId'])\\\n",
    ".agg({'Square': 'sum', 'Price': 'sum'}).rename(columns={'Price':'MedSqPriceByDistrict'})\n",
    "\n",
    "med_sq_price_by_district.loc[:, 'MedSqPriceByDistrict']\\\n",
    "= med_sq_price_by_district['MedSqPriceByDistrict']\\\n",
    "                              / med_sq_price_by_district['Square']\n",
    "med_sq_price_by_district.drop('Square', axis=1, inplace=True)\n",
    "df = df.merge(med_sq_price_by_district, on='DistrictId', how='left')\n",
    "df"
   ]
  },
  {
   "cell_type": "markdown",
   "metadata": {},
   "source": [
    "MedPriceByFloorYear"
   ]
  },
  {
   "cell_type": "code",
   "execution_count": 72,
   "metadata": {},
   "outputs": [],
   "source": [
    "def floor_to_cat(X):\n",
    "    \"\"\"\n",
    "    категория от этажа квартиры\n",
    "    \n",
    "    Floor <= 3, floor_cat = 1  \n",
    "    Floor > 3 & Floor <= 5, floor_cat = 2\n",
    "    Floor > 5 & Floor <= 9, floor_cat = 3\n",
    "    Floor > 9 & Floor <= 15, floor_cat = 4\n",
    "    Floor > 15, floor_cat = 5\n",
    "\n",
    "    \"\"\"\n",
    "\n",
    "    bins = [0, 3, 5, 9, 15, X['Floor'].max()]\n",
    "    X['floor_cat'] = pd.cut(X['Floor'], bins=bins, labels=False)\n",
    "    \n",
    "    X['floor_cat'].fillna(-1, inplace=True)\n",
    "    return X\n",
    "\n",
    "\n",
    "def year_to_cat(X):\n",
    "    \"\"\"\n",
    "     категория от года постройки.\n",
    "    \n",
    "    HouseYear <= 1941, year_cat = 1\n",
    "    HouseYear > 1941 & HouseYear <= 1945, year_cat = 2\n",
    "    HouseYear > 1945 & HouseYear <= 1980, year_cat = 3\n",
    "    HouseYear > 1980 & HouseYear <= 2000, year_cat = 4\n",
    "    HouseYear > 2000 & HouseYear <= 2010, year_cat = 5\n",
    "    HouseYear > 2010, year_cat = 6\n",
    "\n",
    "    \"\"\"\n",
    "    \n",
    "    bins = [0, 1941, 1945, 1980, 2000, 2010, X['HouseYear'].max()]\n",
    "    X['year_cat'] = pd.cut(X['HouseYear'], bins=bins, labels=False)\n",
    "    \n",
    "    X['year_cat'].fillna(-1, inplace=True)\n",
    "    return X"
   ]
  },
  {
   "cell_type": "code",
   "execution_count": 73,
   "metadata": {},
   "outputs": [
    {
     "data": {
      "text/html": [
       "<div>\n",
       "<style scoped>\n",
       "    .dataframe tbody tr th:only-of-type {\n",
       "        vertical-align: middle;\n",
       "    }\n",
       "\n",
       "    .dataframe tbody tr th {\n",
       "        vertical-align: top;\n",
       "    }\n",
       "\n",
       "    .dataframe thead th {\n",
       "        text-align: right;\n",
       "    }\n",
       "</style>\n",
       "<table border=\"1\" class=\"dataframe\">\n",
       "  <thead>\n",
       "    <tr style=\"text-align: right;\">\n",
       "      <th></th>\n",
       "      <th>Id</th>\n",
       "      <th>DistrictId</th>\n",
       "      <th>Rooms</th>\n",
       "      <th>Square</th>\n",
       "      <th>LifeSquare</th>\n",
       "      <th>KitchenSquare</th>\n",
       "      <th>Floor</th>\n",
       "      <th>HouseFloor</th>\n",
       "      <th>HouseYear</th>\n",
       "      <th>Ecology_1</th>\n",
       "      <th>...</th>\n",
       "      <th>LifeSquare_nan</th>\n",
       "      <th>LifeSquare_outlier</th>\n",
       "      <th>Square_swap</th>\n",
       "      <th>HouseFloor_outlier</th>\n",
       "      <th>Floor_swap</th>\n",
       "      <th>DistrictSize</th>\n",
       "      <th>IsDistrictLarge</th>\n",
       "      <th>MedSqPriceByDistrict</th>\n",
       "      <th>year_cat</th>\n",
       "      <th>floor_cat</th>\n",
       "    </tr>\n",
       "  </thead>\n",
       "  <tbody>\n",
       "    <tr>\n",
       "      <th>0</th>\n",
       "      <td>11809</td>\n",
       "      <td>27</td>\n",
       "      <td>3.0</td>\n",
       "      <td>115.027313</td>\n",
       "      <td>105.027313</td>\n",
       "      <td>10.0</td>\n",
       "      <td>4.0</td>\n",
       "      <td>10.0</td>\n",
       "      <td>2014</td>\n",
       "      <td>0.075424</td>\n",
       "      <td>...</td>\n",
       "      <td>1</td>\n",
       "      <td>1</td>\n",
       "      <td>0</td>\n",
       "      <td>0</td>\n",
       "      <td>0</td>\n",
       "      <td>851</td>\n",
       "      <td>1</td>\n",
       "      <td>2707.686279</td>\n",
       "      <td>5</td>\n",
       "      <td>1</td>\n",
       "    </tr>\n",
       "    <tr>\n",
       "      <th>1</th>\n",
       "      <td>3013</td>\n",
       "      <td>22</td>\n",
       "      <td>1.0</td>\n",
       "      <td>39.832523</td>\n",
       "      <td>23.169222</td>\n",
       "      <td>8.0</td>\n",
       "      <td>7.0</td>\n",
       "      <td>8.0</td>\n",
       "      <td>1966</td>\n",
       "      <td>0.118537</td>\n",
       "      <td>...</td>\n",
       "      <td>0</td>\n",
       "      <td>0</td>\n",
       "      <td>0</td>\n",
       "      <td>0</td>\n",
       "      <td>0</td>\n",
       "      <td>78</td>\n",
       "      <td>0</td>\n",
       "      <td>3652.102051</td>\n",
       "      <td>2</td>\n",
       "      <td>2</td>\n",
       "    </tr>\n",
       "    <tr>\n",
       "      <th>2</th>\n",
       "      <td>8215</td>\n",
       "      <td>1</td>\n",
       "      <td>3.0</td>\n",
       "      <td>78.342216</td>\n",
       "      <td>47.671970</td>\n",
       "      <td>10.0</td>\n",
       "      <td>2.0</td>\n",
       "      <td>17.0</td>\n",
       "      <td>1988</td>\n",
       "      <td>0.025609</td>\n",
       "      <td>...</td>\n",
       "      <td>0</td>\n",
       "      <td>0</td>\n",
       "      <td>0</td>\n",
       "      <td>0</td>\n",
       "      <td>0</td>\n",
       "      <td>652</td>\n",
       "      <td>1</td>\n",
       "      <td>3159.496094</td>\n",
       "      <td>3</td>\n",
       "      <td>0</td>\n",
       "    </tr>\n",
       "    <tr>\n",
       "      <th>3</th>\n",
       "      <td>2352</td>\n",
       "      <td>1</td>\n",
       "      <td>1.0</td>\n",
       "      <td>40.409908</td>\n",
       "      <td>37.409908</td>\n",
       "      <td>3.0</td>\n",
       "      <td>10.0</td>\n",
       "      <td>22.0</td>\n",
       "      <td>1977</td>\n",
       "      <td>0.007122</td>\n",
       "      <td>...</td>\n",
       "      <td>1</td>\n",
       "      <td>1</td>\n",
       "      <td>0</td>\n",
       "      <td>0</td>\n",
       "      <td>0</td>\n",
       "      <td>652</td>\n",
       "      <td>1</td>\n",
       "      <td>3159.496094</td>\n",
       "      <td>2</td>\n",
       "      <td>3</td>\n",
       "    </tr>\n",
       "    <tr>\n",
       "      <th>4</th>\n",
       "      <td>13866</td>\n",
       "      <td>94</td>\n",
       "      <td>2.0</td>\n",
       "      <td>64.285065</td>\n",
       "      <td>38.562515</td>\n",
       "      <td>9.0</td>\n",
       "      <td>16.0</td>\n",
       "      <td>16.0</td>\n",
       "      <td>1972</td>\n",
       "      <td>0.282798</td>\n",
       "      <td>...</td>\n",
       "      <td>0</td>\n",
       "      <td>0</td>\n",
       "      <td>0</td>\n",
       "      <td>0</td>\n",
       "      <td>0</td>\n",
       "      <td>89</td>\n",
       "      <td>0</td>\n",
       "      <td>4176.484863</td>\n",
       "      <td>2</td>\n",
       "      <td>4</td>\n",
       "    </tr>\n",
       "  </tbody>\n",
       "</table>\n",
       "<p>5 rows × 30 columns</p>\n",
       "</div>"
      ],
      "text/plain": [
       "      Id DistrictId  Rooms      Square  LifeSquare  KitchenSquare  Floor  \\\n",
       "0  11809         27    3.0  115.027313  105.027313           10.0    4.0   \n",
       "1   3013         22    1.0   39.832523   23.169222            8.0    7.0   \n",
       "2   8215          1    3.0   78.342216   47.671970           10.0    2.0   \n",
       "3   2352          1    1.0   40.409908   37.409908            3.0   10.0   \n",
       "4  13866         94    2.0   64.285065   38.562515            9.0   16.0   \n",
       "\n",
       "   HouseFloor  HouseYear  Ecology_1  ...  LifeSquare_nan  LifeSquare_outlier  \\\n",
       "0        10.0       2014   0.075424  ...               1                   1   \n",
       "1         8.0       1966   0.118537  ...               0                   0   \n",
       "2        17.0       1988   0.025609  ...               0                   0   \n",
       "3        22.0       1977   0.007122  ...               1                   1   \n",
       "4        16.0       1972   0.282798  ...               0                   0   \n",
       "\n",
       "   Square_swap  HouseFloor_outlier  Floor_swap  DistrictSize  IsDistrictLarge  \\\n",
       "0            0                   0           0           851                1   \n",
       "1            0                   0           0            78                0   \n",
       "2            0                   0           0           652                1   \n",
       "3            0                   0           0           652                1   \n",
       "4            0                   0           0            89                0   \n",
       "\n",
       "   MedSqPriceByDistrict  year_cat  floor_cat  \n",
       "0           2707.686279         5          1  \n",
       "1           3652.102051         2          2  \n",
       "2           3159.496094         3          0  \n",
       "3           3159.496094         2          3  \n",
       "4           4176.484863         2          4  \n",
       "\n",
       "[5 rows x 30 columns]"
      ]
     },
     "execution_count": 73,
     "metadata": {},
     "output_type": "execute_result"
    }
   ],
   "source": [
    "df = year_to_cat(df)\n",
    "df = floor_to_cat(df)\n",
    "df.head()"
   ]
  },
  {
   "cell_type": "code",
   "execution_count": 74,
   "metadata": {},
   "outputs": [
    {
     "data": {
      "text/html": [
       "<div>\n",
       "<style scoped>\n",
       "    .dataframe tbody tr th:only-of-type {\n",
       "        vertical-align: middle;\n",
       "    }\n",
       "\n",
       "    .dataframe tbody tr th {\n",
       "        vertical-align: top;\n",
       "    }\n",
       "\n",
       "    .dataframe thead th {\n",
       "        text-align: right;\n",
       "    }\n",
       "</style>\n",
       "<table border=\"1\" class=\"dataframe\">\n",
       "  <thead>\n",
       "    <tr style=\"text-align: right;\">\n",
       "      <th></th>\n",
       "      <th>year_cat</th>\n",
       "      <th>floor_cat</th>\n",
       "      <th>MedPriceByFloorYear</th>\n",
       "    </tr>\n",
       "  </thead>\n",
       "  <tbody>\n",
       "    <tr>\n",
       "      <th>0</th>\n",
       "      <td>0</td>\n",
       "      <td>0</td>\n",
       "      <td>380359.12500</td>\n",
       "    </tr>\n",
       "    <tr>\n",
       "      <th>1</th>\n",
       "      <td>0</td>\n",
       "      <td>1</td>\n",
       "      <td>324303.81250</td>\n",
       "    </tr>\n",
       "    <tr>\n",
       "      <th>2</th>\n",
       "      <td>0</td>\n",
       "      <td>2</td>\n",
       "      <td>422668.37500</td>\n",
       "    </tr>\n",
       "    <tr>\n",
       "      <th>3</th>\n",
       "      <td>0</td>\n",
       "      <td>3</td>\n",
       "      <td>274992.46875</td>\n",
       "    </tr>\n",
       "    <tr>\n",
       "      <th>4</th>\n",
       "      <td>1</td>\n",
       "      <td>0</td>\n",
       "      <td>467230.53125</td>\n",
       "    </tr>\n",
       "  </tbody>\n",
       "</table>\n",
       "</div>"
      ],
      "text/plain": [
       "   year_cat  floor_cat  MedPriceByFloorYear\n",
       "0         0          0         380359.12500\n",
       "1         0          1         324303.81250\n",
       "2         0          2         422668.37500\n",
       "3         0          3         274992.46875\n",
       "4         1          0         467230.53125"
      ]
     },
     "execution_count": 74,
     "metadata": {},
     "output_type": "execute_result"
    }
   ],
   "source": [
    "med_price_by_floor_year = df.groupby(['year_cat', 'floor_cat'], as_index=False).agg({'Price':'median'}).\\\n",
    "                                            rename(columns={'Price':'MedPriceByFloorYear'})\n",
    "med_price_by_floor_year.head()"
   ]
  },
  {
   "cell_type": "code",
   "execution_count": 75,
   "metadata": {},
   "outputs": [
    {
     "data": {
      "text/html": [
       "<div>\n",
       "<style scoped>\n",
       "    .dataframe tbody tr th:only-of-type {\n",
       "        vertical-align: middle;\n",
       "    }\n",
       "\n",
       "    .dataframe tbody tr th {\n",
       "        vertical-align: top;\n",
       "    }\n",
       "\n",
       "    .dataframe thead th {\n",
       "        text-align: right;\n",
       "    }\n",
       "</style>\n",
       "<table border=\"1\" class=\"dataframe\">\n",
       "  <thead>\n",
       "    <tr style=\"text-align: right;\">\n",
       "      <th></th>\n",
       "      <th>Id</th>\n",
       "      <th>DistrictId</th>\n",
       "      <th>Rooms</th>\n",
       "      <th>Square</th>\n",
       "      <th>LifeSquare</th>\n",
       "      <th>KitchenSquare</th>\n",
       "      <th>Floor</th>\n",
       "      <th>HouseFloor</th>\n",
       "      <th>HouseYear</th>\n",
       "      <th>Ecology_1</th>\n",
       "      <th>...</th>\n",
       "      <th>LifeSquare_outlier</th>\n",
       "      <th>Square_swap</th>\n",
       "      <th>HouseFloor_outlier</th>\n",
       "      <th>Floor_swap</th>\n",
       "      <th>DistrictSize</th>\n",
       "      <th>IsDistrictLarge</th>\n",
       "      <th>MedSqPriceByDistrict</th>\n",
       "      <th>year_cat</th>\n",
       "      <th>floor_cat</th>\n",
       "      <th>MedPriceByFloorYear</th>\n",
       "    </tr>\n",
       "  </thead>\n",
       "  <tbody>\n",
       "    <tr>\n",
       "      <th>0</th>\n",
       "      <td>11809</td>\n",
       "      <td>27</td>\n",
       "      <td>3.0</td>\n",
       "      <td>115.027313</td>\n",
       "      <td>105.027313</td>\n",
       "      <td>10.0</td>\n",
       "      <td>4.0</td>\n",
       "      <td>10.0</td>\n",
       "      <td>2014</td>\n",
       "      <td>0.075424</td>\n",
       "      <td>...</td>\n",
       "      <td>1</td>\n",
       "      <td>0</td>\n",
       "      <td>0</td>\n",
       "      <td>0</td>\n",
       "      <td>851</td>\n",
       "      <td>1</td>\n",
       "      <td>2707.686279</td>\n",
       "      <td>5</td>\n",
       "      <td>1</td>\n",
       "      <td>161744.500000</td>\n",
       "    </tr>\n",
       "    <tr>\n",
       "      <th>1</th>\n",
       "      <td>3013</td>\n",
       "      <td>22</td>\n",
       "      <td>1.0</td>\n",
       "      <td>39.832523</td>\n",
       "      <td>23.169222</td>\n",
       "      <td>8.0</td>\n",
       "      <td>7.0</td>\n",
       "      <td>8.0</td>\n",
       "      <td>1966</td>\n",
       "      <td>0.118537</td>\n",
       "      <td>...</td>\n",
       "      <td>0</td>\n",
       "      <td>0</td>\n",
       "      <td>0</td>\n",
       "      <td>0</td>\n",
       "      <td>78</td>\n",
       "      <td>0</td>\n",
       "      <td>3652.102051</td>\n",
       "      <td>2</td>\n",
       "      <td>2</td>\n",
       "      <td>192213.968750</td>\n",
       "    </tr>\n",
       "    <tr>\n",
       "      <th>2</th>\n",
       "      <td>8215</td>\n",
       "      <td>1</td>\n",
       "      <td>3.0</td>\n",
       "      <td>78.342216</td>\n",
       "      <td>47.671970</td>\n",
       "      <td>10.0</td>\n",
       "      <td>2.0</td>\n",
       "      <td>17.0</td>\n",
       "      <td>1988</td>\n",
       "      <td>0.025609</td>\n",
       "      <td>...</td>\n",
       "      <td>0</td>\n",
       "      <td>0</td>\n",
       "      <td>0</td>\n",
       "      <td>0</td>\n",
       "      <td>652</td>\n",
       "      <td>1</td>\n",
       "      <td>3159.496094</td>\n",
       "      <td>3</td>\n",
       "      <td>0</td>\n",
       "      <td>205210.062500</td>\n",
       "    </tr>\n",
       "    <tr>\n",
       "      <th>3</th>\n",
       "      <td>2352</td>\n",
       "      <td>1</td>\n",
       "      <td>1.0</td>\n",
       "      <td>40.409908</td>\n",
       "      <td>37.409908</td>\n",
       "      <td>3.0</td>\n",
       "      <td>10.0</td>\n",
       "      <td>22.0</td>\n",
       "      <td>1977</td>\n",
       "      <td>0.007122</td>\n",
       "      <td>...</td>\n",
       "      <td>1</td>\n",
       "      <td>0</td>\n",
       "      <td>0</td>\n",
       "      <td>0</td>\n",
       "      <td>652</td>\n",
       "      <td>1</td>\n",
       "      <td>3159.496094</td>\n",
       "      <td>2</td>\n",
       "      <td>3</td>\n",
       "      <td>184303.156250</td>\n",
       "    </tr>\n",
       "    <tr>\n",
       "      <th>4</th>\n",
       "      <td>13866</td>\n",
       "      <td>94</td>\n",
       "      <td>2.0</td>\n",
       "      <td>64.285065</td>\n",
       "      <td>38.562515</td>\n",
       "      <td>9.0</td>\n",
       "      <td>16.0</td>\n",
       "      <td>16.0</td>\n",
       "      <td>1972</td>\n",
       "      <td>0.282798</td>\n",
       "      <td>...</td>\n",
       "      <td>0</td>\n",
       "      <td>0</td>\n",
       "      <td>0</td>\n",
       "      <td>0</td>\n",
       "      <td>89</td>\n",
       "      <td>0</td>\n",
       "      <td>4176.484863</td>\n",
       "      <td>2</td>\n",
       "      <td>4</td>\n",
       "      <td>177875.703125</td>\n",
       "    </tr>\n",
       "  </tbody>\n",
       "</table>\n",
       "<p>5 rows × 31 columns</p>\n",
       "</div>"
      ],
      "text/plain": [
       "      Id DistrictId  Rooms      Square  LifeSquare  KitchenSquare  Floor  \\\n",
       "0  11809         27    3.0  115.027313  105.027313           10.0    4.0   \n",
       "1   3013         22    1.0   39.832523   23.169222            8.0    7.0   \n",
       "2   8215          1    3.0   78.342216   47.671970           10.0    2.0   \n",
       "3   2352          1    1.0   40.409908   37.409908            3.0   10.0   \n",
       "4  13866         94    2.0   64.285065   38.562515            9.0   16.0   \n",
       "\n",
       "   HouseFloor  HouseYear  Ecology_1  ...  LifeSquare_outlier  Square_swap  \\\n",
       "0        10.0       2014   0.075424  ...                   1            0   \n",
       "1         8.0       1966   0.118537  ...                   0            0   \n",
       "2        17.0       1988   0.025609  ...                   0            0   \n",
       "3        22.0       1977   0.007122  ...                   1            0   \n",
       "4        16.0       1972   0.282798  ...                   0            0   \n",
       "\n",
       "   HouseFloor_outlier  Floor_swap  DistrictSize  IsDistrictLarge  \\\n",
       "0                   0           0           851                1   \n",
       "1                   0           0            78                0   \n",
       "2                   0           0           652                1   \n",
       "3                   0           0           652                1   \n",
       "4                   0           0            89                0   \n",
       "\n",
       "   MedSqPriceByDistrict  year_cat  floor_cat  MedPriceByFloorYear  \n",
       "0           2707.686279         5          1        161744.500000  \n",
       "1           3652.102051         2          2        192213.968750  \n",
       "2           3159.496094         3          0        205210.062500  \n",
       "3           3159.496094         2          3        184303.156250  \n",
       "4           4176.484863         2          4        177875.703125  \n",
       "\n",
       "[5 rows x 31 columns]"
      ]
     },
     "execution_count": 75,
     "metadata": {},
     "output_type": "execute_result"
    }
   ],
   "source": [
    "df = df.merge(med_price_by_floor_year, on=['year_cat', 'floor_cat'], how='left')\n",
    "df.head()"
   ]
  },
  {
   "cell_type": "code",
   "execution_count": 76,
   "metadata": {},
   "outputs": [],
   "source": [
    "class FeatureGenerator():\n",
    "    \"\"\"Генерация новых фич\"\"\"\n",
    "    \n",
    "    def __init__(self):\n",
    "        self.DistrictId_counts = None\n",
    "        self.binary_to_numbers = None\n",
    "        self.med_sq_price_by_district = None\n",
    "        self.med_sq_price_by_district_median = None\n",
    "        self.med_price_by_floor_year = None\n",
    "        self.med_price_by_floor_year_median = None\n",
    "        self.house_year_max = None\n",
    "        self.floor_max = None\n",
    "        \n",
    "    def fit(self, X, y=None):\n",
    "        \n",
    "        X = X.copy()\n",
    "        \n",
    "        # Binary features\n",
    "        self.binary_to_numbers = {'A': 0, 'B': 1}\n",
    "        \n",
    "        # DistrictID\n",
    "        self.district_size = X['DistrictId'].value_counts().reset_index() \\\n",
    "                               .rename(columns={'index':'DistrictId', 'DistrictId':'DistrictSize'})\n",
    "                \n",
    "        ## District, Rooms\n",
    "        df = X.copy()\n",
    "        \n",
    "        if y is not None:\n",
    "            df['Price'] = y.values\n",
    "            \n",
    "            self.med_sq_price_by_district = df.groupby(['DistrictId'])\\\n",
    "            .agg({'Square': 'sum', 'Price': 'sum'}).rename(columns={'Price':'MedSqPriceByDistrict'})\n",
    "            \n",
    "            self.med_sq_price_by_district.loc[:, 'MedSqPriceByDistrict']\\\n",
    "            = self.med_sq_price_by_district['MedSqPriceByDistrict']\\\n",
    "                              / self.med_sq_price_by_district['Square']\n",
    "            \n",
    "            self.med_sq_price_by_district.drop('Square', axis=1, inplace=True)           \n",
    "            self.med_sq_price_by_district_median = self.med_sq_price_by_district['MedSqPriceByDistrict'].median()\n",
    "            \n",
    "        ## floor, year\n",
    "        if y is not None:\n",
    "            self.floor_max = df['Floor'].max()\n",
    "            self.house_year_max = df['HouseYear'].max()\n",
    "            df['Price'] = y.values\n",
    "            df = self.floor_to_cat(df)\n",
    "            df = self.year_to_cat(df)\n",
    "            self.med_price_by_floor_year = df.groupby(['year_cat', 'floor_cat'], as_index=False).agg({'Price':'median'}).\\\n",
    "                                            rename(columns={'Price':'MedPriceByFloorYear'})\n",
    "            self.med_price_by_floor_year_median = self.med_price_by_floor_year['MedPriceByFloorYear'].median()\n",
    "        \n",
    "\n",
    "        \n",
    "    def transform(self, X):\n",
    "        \n",
    "        # Binary features\n",
    "        X['Ecology_2'] = X['Ecology_2'].map(self.binary_to_numbers)  # self.binary_to_numbers = {'A': 0, 'B': 1}\n",
    "        X['Ecology_2'] = X['Ecology_2'].astype(np.int8)\n",
    "        X['Ecology_3'] = X['Ecology_3'].map(self.binary_to_numbers)\n",
    "        X['Ecology_3'] = X['Ecology_3'].astype(np.int8)\n",
    "        X['Shops_2'] = X['Shops_2'].map(self.binary_to_numbers)\n",
    "        X['Shops_2'] = X['Shops_2'].astype(np.int8)\n",
    "        \n",
    "        # DistrictId, IsDistrictLarge\n",
    "        X = X.merge(self.district_size, on='DistrictId', how='left')\n",
    "        \n",
    "        X['DistrictSize_nan'] = X['DistrictSize'].isna() * 1\n",
    "        X['DistrictSize'].fillna(5, inplace=True)\n",
    "        X['IsDistrictLarge'] = (X['DistrictSize'] > 100).astype(np.int16)\n",
    "        \n",
    "        # More categorical features\n",
    "        X = self.floor_to_cat(X)  # + признак floor_cat\n",
    "        X = self.year_to_cat(X)   # + признак year_cat\n",
    "        \n",
    "        if self.med_sq_price_by_district is not None:\n",
    "            X = X.merge(self.med_sq_price_by_district, on='DistrictId', how='left')\n",
    "            X.loc[X['MedSqPriceByDistrict'].isna(), 'MedSqPriceByDistrict'] = self.med_sq_price_by_district_median\n",
    "            \n",
    "        if self.med_price_by_floor_year is not None:\n",
    "            X = X.merge(self.med_price_by_floor_year, on=['year_cat', 'floor_cat'], how='left')\n",
    "            X.loc[X['MedPriceByFloorYear'].isna(), 'MedPriceByFloorYear'] = self.med_price_by_floor_year_median\n",
    "        \n",
    "        return X\n",
    "    \n",
    "    def floor_to_cat(self, X):\n",
    "        bins = [0, 3, 5, 9, 15, self.floor_max]\n",
    "        X['floor_cat'] = pd.cut(X['Floor'], bins=bins, labels=False)\n",
    "\n",
    "        X['floor_cat'].fillna(-1, inplace=True) \n",
    "        return X\n",
    "     \n",
    "    def year_to_cat(self, X):\n",
    "        bins = [0, 1941, 1945, 1980, 2000, 2010, self.house_year_max]\n",
    "        X['year_cat'] = pd.cut(X['HouseYear'], bins=bins, labels=False)\n",
    "\n",
    "        X['year_cat'].fillna(-1, inplace=True)\n",
    "        return X\n",
    "            \n",
    "    "
   ]
  },
  {
   "cell_type": "markdown",
   "metadata": {},
   "source": [
    "# Отбор признаков #"
   ]
  },
  {
   "cell_type": "code",
   "execution_count": 77,
   "metadata": {},
   "outputs": [
    {
     "data": {
      "text/plain": [
       "['Id',\n",
       " 'DistrictId',\n",
       " 'Rooms',\n",
       " 'Square',\n",
       " 'LifeSquare',\n",
       " 'KitchenSquare',\n",
       " 'Floor',\n",
       " 'HouseFloor',\n",
       " 'HouseYear',\n",
       " 'Ecology_1',\n",
       " 'Ecology_2',\n",
       " 'Ecology_3',\n",
       " 'Social_1',\n",
       " 'Social_2',\n",
       " 'Social_3',\n",
       " 'Helthcare_2',\n",
       " 'Shops_1',\n",
       " 'Shops_2',\n",
       " 'Price',\n",
       " 'Rooms_outlier',\n",
       " 'LifeSquare_nan',\n",
       " 'LifeSquare_outlier',\n",
       " 'Square_swap',\n",
       " 'HouseFloor_outlier',\n",
       " 'Floor_swap',\n",
       " 'DistrictSize',\n",
       " 'IsDistrictLarge',\n",
       " 'MedSqPriceByDistrict',\n",
       " 'year_cat',\n",
       " 'floor_cat',\n",
       " 'MedPriceByFloorYear']"
      ]
     },
     "execution_count": 77,
     "metadata": {},
     "output_type": "execute_result"
    }
   ],
   "source": [
    "df.columns.tolist()"
   ]
  },
  {
   "cell_type": "code",
   "execution_count": 78,
   "metadata": {},
   "outputs": [],
   "source": [
    "feature_names = ['Rooms', 'Square', 'LifeSquare', 'KitchenSquare', 'Floor', 'HouseFloor', 'HouseYear',\n",
    "                 'Ecology_1', 'Ecology_2', 'Ecology_3', 'Social_1', 'Social_2', 'Social_3',\n",
    "                 'Helthcare_2', 'Shops_1']\n",
    "\n",
    "new_feature_names = ['DistrictSize', 'IsDistrictLarge', 'MedSqPriceByDistrict', 'MedPriceByFloorYear']\n",
    "\n",
    "target_name = 'Price'"
   ]
  },
  {
   "cell_type": "markdown",
   "metadata": {},
   "source": [
    "# Разбиение на train и test #"
   ]
  },
  {
   "cell_type": "code",
   "execution_count": 79,
   "metadata": {},
   "outputs": [
    {
     "name": "stdout",
     "output_type": "stream",
     "text": [
      "Memory usage of dataframe is 1.53 MB\n",
      "Memory usage after optimization is: 0.49 MB\n",
      "Decreased by 68.1%\n",
      "Memory usage of dataframe is 0.72 MB\n",
      "Memory usage after optimization is: 0.21 MB\n",
      "Decreased by 70.3%\n"
     ]
    }
   ],
   "source": [
    "train_df = pd.read_csv(TRAIN_DATASET_PATH)\n",
    "test_df = pd.read_csv(TEST_DATASET_PATH)\n",
    "\n",
    "train_df = reduce_mem_usage(train_df)\n",
    "test_df = reduce_mem_usage(test_df)\n",
    "\n",
    "X = train_df.drop(columns=target_name)\n",
    "y = train_df[target_name]"
   ]
  },
  {
   "cell_type": "code",
   "execution_count": 80,
   "metadata": {},
   "outputs": [],
   "source": [
    "X_train, X_valid, y_train, y_valid = train_test_split(X, y, test_size=0.3, shuffle=True, random_state=21)"
   ]
  },
  {
   "cell_type": "code",
   "execution_count": 81,
   "metadata": {},
   "outputs": [
    {
     "data": {
      "text/plain": [
       "((7000, 25), (3000, 25), (5000, 25))"
      ]
     },
     "execution_count": 81,
     "metadata": {},
     "output_type": "execute_result"
    }
   ],
   "source": [
    "preprocessor = DataPreprocessing()\n",
    "preprocessor.fit(X_train)\n",
    "\n",
    "X_train = preprocessor.transform(X_train)\n",
    "X_valid = preprocessor.transform(X_valid)\n",
    "test_df = preprocessor.transform(test_df)\n",
    "\n",
    "X_train.shape, X_valid.shape, test_df.shape"
   ]
  },
  {
   "cell_type": "code",
   "execution_count": 82,
   "metadata": {},
   "outputs": [
    {
     "data": {
      "text/plain": [
       "((7000, 32), (3000, 32), (5000, 32))"
      ]
     },
     "execution_count": 82,
     "metadata": {},
     "output_type": "execute_result"
    }
   ],
   "source": [
    "features_gen = FeatureGenerator()\n",
    "features_gen.fit(X_train, y_train)\n",
    "\n",
    "X_train = features_gen.transform(X_train)\n",
    "X_valid = features_gen.transform(X_valid)\n",
    "test_df = features_gen.transform(test_df)\n",
    "\n",
    "X_train.shape, X_valid.shape, test_df.shape"
   ]
  },
  {
   "cell_type": "code",
   "execution_count": 83,
   "metadata": {},
   "outputs": [],
   "source": [
    "X_train = X_train[feature_names + new_feature_names]\n",
    "X_valid = X_valid[feature_names + new_feature_names]\n",
    "test_df = test_df[feature_names + new_feature_names]"
   ]
  },
  {
   "cell_type": "code",
   "execution_count": 84,
   "metadata": {},
   "outputs": [
    {
     "data": {
      "text/plain": [
       "(0, 0, 0)"
      ]
     },
     "execution_count": 84,
     "metadata": {},
     "output_type": "execute_result"
    }
   ],
   "source": [
    "X_train.isna().sum().sum(), X_valid.isna().sum().sum(), test_df.isna().sum().sum()"
   ]
  },
  {
   "cell_type": "markdown",
   "metadata": {},
   "source": [
    "# Построение модели #"
   ]
  },
  {
   "cell_type": "code",
   "execution_count": 85,
   "metadata": {},
   "outputs": [
    {
     "data": {
      "text/plain": [
       "RandomForestRegressor(random_state=21)"
      ]
     },
     "execution_count": 85,
     "metadata": {},
     "output_type": "execute_result"
    }
   ],
   "source": [
    "rf_model = RandomForestRegressor(random_state=21, criterion='mse')\n",
    "rf_model.fit(X_train, y_train)"
   ]
  },
  {
   "cell_type": "code",
   "execution_count": 86,
   "metadata": {},
   "outputs": [
    {
     "name": "stdout",
     "output_type": "stream",
     "text": [
      "Train R2:\t0.967\n",
      "Test R2:\t0.743\n"
     ]
    },
    {
     "data": {
      "image/png": "[encoded data removed]",
      "text/plain": [
       "<Figure size 1296x720 with 2 Axes>"
      ]
     },
     "metadata": {
      "needs_background": "light"
     },
     "output_type": "display_data"
    }
   ],
   "source": [
    "y_train_preds = rf_model.predict(X_train)\n",
    "y_test_preds = rf_model.predict(X_valid)\n",
    "\n",
    "evaluate_preds(y_train, y_train_preds, y_valid, y_test_preds)"
   ]
  },
  {
   "cell_type": "code",
   "execution_count": 87,
   "metadata": {},
   "outputs": [
    {
     "data": {
      "text/plain": [
       "array([0.71055045, 0.73093805, 0.78948495])"
      ]
     },
     "execution_count": 87,
     "metadata": {},
     "output_type": "execute_result"
    }
   ],
   "source": [
    "cv_score = cross_val_score(rf_model, X_train, y_train, scoring='r2', cv=KFold(n_splits=3, shuffle=True, random_state=21))\n",
    "cv_score"
   ]
  },
  {
   "cell_type": "code",
   "execution_count": 88,
   "metadata": {},
   "outputs": [
    {
     "data": {
      "text/plain": [
       "0.743657815334921"
      ]
     },
     "execution_count": 88,
     "metadata": {},
     "output_type": "execute_result"
    }
   ],
   "source": [
    "cv_score.mean()"
   ]
  },
  {
   "cell_type": "markdown",
   "metadata": {},
   "source": [
    "Важность признаков"
   ]
  },
  {
   "cell_type": "code",
   "execution_count": 89,
   "metadata": {},
   "outputs": [
    {
     "data": {
      "text/html": [
       "<div>\n",
       "<style scoped>\n",
       "    .dataframe tbody tr th:only-of-type {\n",
       "        vertical-align: middle;\n",
       "    }\n",
       "\n",
       "    .dataframe tbody tr th {\n",
       "        vertical-align: top;\n",
       "    }\n",
       "\n",
       "    .dataframe thead th {\n",
       "        text-align: right;\n",
       "    }\n",
       "</style>\n",
       "<table border=\"1\" class=\"dataframe\">\n",
       "  <thead>\n",
       "    <tr style=\"text-align: right;\">\n",
       "      <th></th>\n",
       "      <th>feature_name</th>\n",
       "      <th>importance</th>\n",
       "    </tr>\n",
       "  </thead>\n",
       "  <tbody>\n",
       "    <tr>\n",
       "      <th>1</th>\n",
       "      <td>Square</td>\n",
       "      <td>0.417149</td>\n",
       "    </tr>\n",
       "    <tr>\n",
       "      <th>17</th>\n",
       "      <td>MedSqPriceByDistrict</td>\n",
       "      <td>0.330066</td>\n",
       "    </tr>\n",
       "    <tr>\n",
       "      <th>2</th>\n",
       "      <td>LifeSquare</td>\n",
       "      <td>0.031444</td>\n",
       "    </tr>\n",
       "    <tr>\n",
       "      <th>0</th>\n",
       "      <td>Rooms</td>\n",
       "      <td>0.031059</td>\n",
       "    </tr>\n",
       "    <tr>\n",
       "      <th>18</th>\n",
       "      <td>MedPriceByFloorYear</td>\n",
       "      <td>0.026671</td>\n",
       "    </tr>\n",
       "    <tr>\n",
       "      <th>6</th>\n",
       "      <td>HouseYear</td>\n",
       "      <td>0.022165</td>\n",
       "    </tr>\n",
       "    <tr>\n",
       "      <th>5</th>\n",
       "      <td>HouseFloor</td>\n",
       "      <td>0.020276</td>\n",
       "    </tr>\n",
       "    <tr>\n",
       "      <th>11</th>\n",
       "      <td>Social_2</td>\n",
       "      <td>0.018909</td>\n",
       "    </tr>\n",
       "    <tr>\n",
       "      <th>4</th>\n",
       "      <td>Floor</td>\n",
       "      <td>0.016784</td>\n",
       "    </tr>\n",
       "    <tr>\n",
       "      <th>10</th>\n",
       "      <td>Social_1</td>\n",
       "      <td>0.014847</td>\n",
       "    </tr>\n",
       "    <tr>\n",
       "      <th>12</th>\n",
       "      <td>Social_3</td>\n",
       "      <td>0.013598</td>\n",
       "    </tr>\n",
       "    <tr>\n",
       "      <th>3</th>\n",
       "      <td>KitchenSquare</td>\n",
       "      <td>0.013512</td>\n",
       "    </tr>\n",
       "    <tr>\n",
       "      <th>7</th>\n",
       "      <td>Ecology_1</td>\n",
       "      <td>0.013417</td>\n",
       "    </tr>\n",
       "    <tr>\n",
       "      <th>15</th>\n",
       "      <td>DistrictSize</td>\n",
       "      <td>0.012284</td>\n",
       "    </tr>\n",
       "    <tr>\n",
       "      <th>14</th>\n",
       "      <td>Shops_1</td>\n",
       "      <td>0.010906</td>\n",
       "    </tr>\n",
       "    <tr>\n",
       "      <th>13</th>\n",
       "      <td>Helthcare_2</td>\n",
       "      <td>0.005827</td>\n",
       "    </tr>\n",
       "    <tr>\n",
       "      <th>9</th>\n",
       "      <td>Ecology_3</td>\n",
       "      <td>0.000508</td>\n",
       "    </tr>\n",
       "    <tr>\n",
       "      <th>16</th>\n",
       "      <td>IsDistrictLarge</td>\n",
       "      <td>0.000444</td>\n",
       "    </tr>\n",
       "    <tr>\n",
       "      <th>8</th>\n",
       "      <td>Ecology_2</td>\n",
       "      <td>0.000134</td>\n",
       "    </tr>\n",
       "  </tbody>\n",
       "</table>\n",
       "</div>"
      ],
      "text/plain": [
       "            feature_name  importance\n",
       "1                 Square    0.417149\n",
       "17  MedSqPriceByDistrict    0.330066\n",
       "2             LifeSquare    0.031444\n",
       "0                  Rooms    0.031059\n",
       "18   MedPriceByFloorYear    0.026671\n",
       "6              HouseYear    0.022165\n",
       "5             HouseFloor    0.020276\n",
       "11              Social_2    0.018909\n",
       "4                  Floor    0.016784\n",
       "10              Social_1    0.014847\n",
       "12              Social_3    0.013598\n",
       "3          KitchenSquare    0.013512\n",
       "7              Ecology_1    0.013417\n",
       "15          DistrictSize    0.012284\n",
       "14               Shops_1    0.010906\n",
       "13           Helthcare_2    0.005827\n",
       "9              Ecology_3    0.000508\n",
       "16       IsDistrictLarge    0.000444\n",
       "8              Ecology_2    0.000134"
      ]
     },
     "execution_count": 89,
     "metadata": {},
     "output_type": "execute_result"
    }
   ],
   "source": [
    "feature_importances = pd.DataFrame(zip(X_train.columns, rf_model.feature_importances_), \n",
    "                                   columns=['feature_name', 'importance'])\n",
    "\n",
    "feature_importances.sort_values(by='importance', ascending=False)"
   ]
  },
  {
   "cell_type": "code",
   "execution_count": 90,
   "metadata": {},
   "outputs": [
    {
     "data": {
      "text/plain": [
       "StackingRegressor(estimators=[('lr', LinearRegression()),\n",
       "                              ('rf', RandomForestRegressor(random_state=21))],\n",
       "                  final_estimator=GradientBoostingRegressor())"
      ]
     },
     "execution_count": 90,
     "metadata": {},
     "output_type": "execute_result"
    }
   ],
   "source": [
    "from sklearn.ensemble import StackingRegressor, VotingRegressor, BaggingRegressor, GradientBoostingRegressor\n",
    "from sklearn.linear_model import LinearRegression\n",
    "\n",
    "lr = LinearRegression()\n",
    "gb = GradientBoostingRegressor()\n",
    "stack = StackingRegressor([('lr', lr), ('rf', rf_model)], final_estimator=gb)\n",
    "stack.fit(X_train, y_train)"
   ]
  },
  {
   "cell_type": "code",
   "execution_count": 91,
   "metadata": {},
   "outputs": [
    {
     "name": "stdout",
     "output_type": "stream",
     "text": [
      "Train R2:\t0.935\n",
      "Test R2:\t0.739\n"
     ]
    },
    {
     "data": {
      "image/png": "[encoded data removed]",
      "text/plain": [
       "<Figure size 1296x720 with 2 Axes>"
      ]
     },
     "metadata": {
      "needs_background": "light"
     },
     "output_type": "display_data"
    }
   ],
   "source": [
    "y_train_preds = stack.predict(X_train)\n",
    "y_test_preds = stack.predict(X_valid)\n",
    "\n",
    "evaluate_preds(y_train, y_train_preds, y_valid, y_test_preds)"
   ]
  },
  {
   "cell_type": "markdown",
   "metadata": {},
   "source": [
    "Прогнозирование на тестовом датасете"
   ]
  },
  {
   "cell_type": "code",
   "execution_count": 92,
   "metadata": {},
   "outputs": [
    {
     "data": {
      "text/plain": [
       "(5000, 19)"
      ]
     },
     "execution_count": 92,
     "metadata": {},
     "output_type": "execute_result"
    }
   ],
   "source": [
    "test_df.shape"
   ]
  },
  {
   "cell_type": "code",
   "execution_count": 93,
   "metadata": {},
   "outputs": [
    {
     "data": {
      "text/html": [
       "<div>\n",
       "<style scoped>\n",
       "    .dataframe tbody tr th:only-of-type {\n",
       "        vertical-align: middle;\n",
       "    }\n",
       "\n",
       "    .dataframe tbody tr th {\n",
       "        vertical-align: top;\n",
       "    }\n",
       "\n",
       "    .dataframe thead th {\n",
       "        text-align: right;\n",
       "    }\n",
       "</style>\n",
       "<table border=\"1\" class=\"dataframe\">\n",
       "  <thead>\n",
       "    <tr style=\"text-align: right;\">\n",
       "      <th></th>\n",
       "      <th>Rooms</th>\n",
       "      <th>Square</th>\n",
       "      <th>LifeSquare</th>\n",
       "      <th>KitchenSquare</th>\n",
       "      <th>Floor</th>\n",
       "      <th>HouseFloor</th>\n",
       "      <th>HouseYear</th>\n",
       "      <th>Ecology_1</th>\n",
       "      <th>Ecology_2</th>\n",
       "      <th>Ecology_3</th>\n",
       "      <th>Social_1</th>\n",
       "      <th>Social_2</th>\n",
       "      <th>Social_3</th>\n",
       "      <th>Helthcare_2</th>\n",
       "      <th>Shops_1</th>\n",
       "      <th>DistrictSize</th>\n",
       "      <th>IsDistrictLarge</th>\n",
       "      <th>MedSqPriceByDistrict</th>\n",
       "      <th>MedPriceByFloorYear</th>\n",
       "    </tr>\n",
       "  </thead>\n",
       "  <tbody>\n",
       "    <tr>\n",
       "      <th>0</th>\n",
       "      <td>1.0</td>\n",
       "      <td>36.847630</td>\n",
       "      <td>19.094183</td>\n",
       "      <td>5.0</td>\n",
       "      <td>5.0</td>\n",
       "      <td>9.0</td>\n",
       "      <td>1970</td>\n",
       "      <td>0.036122</td>\n",
       "      <td>1</td>\n",
       "      <td>1</td>\n",
       "      <td>24</td>\n",
       "      <td>4378</td>\n",
       "      <td>0</td>\n",
       "      <td>1</td>\n",
       "      <td>1</td>\n",
       "      <td>76.0</td>\n",
       "      <td>0</td>\n",
       "      <td>4541.313477</td>\n",
       "      <td>186141.968750</td>\n",
       "    </tr>\n",
       "    <tr>\n",
       "      <th>1</th>\n",
       "      <td>1.0</td>\n",
       "      <td>42.568134</td>\n",
       "      <td>32.568134</td>\n",
       "      <td>10.0</td>\n",
       "      <td>7.0</td>\n",
       "      <td>17.0</td>\n",
       "      <td>2017</td>\n",
       "      <td>0.072158</td>\n",
       "      <td>1</td>\n",
       "      <td>1</td>\n",
       "      <td>2</td>\n",
       "      <td>629</td>\n",
       "      <td>1</td>\n",
       "      <td>0</td>\n",
       "      <td>0</td>\n",
       "      <td>169.0</td>\n",
       "      <td>1</td>\n",
       "      <td>2733.378906</td>\n",
       "      <td>180042.906250</td>\n",
       "    </tr>\n",
       "    <tr>\n",
       "      <th>2</th>\n",
       "      <td>2.0</td>\n",
       "      <td>59.463676</td>\n",
       "      <td>50.463676</td>\n",
       "      <td>9.0</td>\n",
       "      <td>19.0</td>\n",
       "      <td>19.0</td>\n",
       "      <td>1977</td>\n",
       "      <td>0.211401</td>\n",
       "      <td>1</td>\n",
       "      <td>1</td>\n",
       "      <td>9</td>\n",
       "      <td>1892</td>\n",
       "      <td>0</td>\n",
       "      <td>0</td>\n",
       "      <td>1</td>\n",
       "      <td>609.0</td>\n",
       "      <td>1</td>\n",
       "      <td>2703.307861</td>\n",
       "      <td>179235.484375</td>\n",
       "    </tr>\n",
       "    <tr>\n",
       "      <th>3</th>\n",
       "      <td>3.0</td>\n",
       "      <td>49.646030</td>\n",
       "      <td>33.893826</td>\n",
       "      <td>6.0</td>\n",
       "      <td>2.0</td>\n",
       "      <td>2.0</td>\n",
       "      <td>1965</td>\n",
       "      <td>0.014073</td>\n",
       "      <td>1</td>\n",
       "      <td>1</td>\n",
       "      <td>2</td>\n",
       "      <td>475</td>\n",
       "      <td>0</td>\n",
       "      <td>0</td>\n",
       "      <td>0</td>\n",
       "      <td>392.0</td>\n",
       "      <td>1</td>\n",
       "      <td>2219.800781</td>\n",
       "      <td>179439.000000</td>\n",
       "    </tr>\n",
       "    <tr>\n",
       "      <th>4</th>\n",
       "      <td>1.0</td>\n",
       "      <td>53.837055</td>\n",
       "      <td>50.837055</td>\n",
       "      <td>3.0</td>\n",
       "      <td>8.0</td>\n",
       "      <td>17.0</td>\n",
       "      <td>1977</td>\n",
       "      <td>0.309479</td>\n",
       "      <td>1</td>\n",
       "      <td>1</td>\n",
       "      <td>35</td>\n",
       "      <td>7715</td>\n",
       "      <td>4</td>\n",
       "      <td>0</td>\n",
       "      <td>6</td>\n",
       "      <td>68.0</td>\n",
       "      <td>0</td>\n",
       "      <td>3354.030029</td>\n",
       "      <td>192125.203125</td>\n",
       "    </tr>\n",
       "    <tr>\n",
       "      <th>...</th>\n",
       "      <td>...</td>\n",
       "      <td>...</td>\n",
       "      <td>...</td>\n",
       "      <td>...</td>\n",
       "      <td>...</td>\n",
       "      <td>...</td>\n",
       "      <td>...</td>\n",
       "      <td>...</td>\n",
       "      <td>...</td>\n",
       "      <td>...</td>\n",
       "      <td>...</td>\n",
       "      <td>...</td>\n",
       "      <td>...</td>\n",
       "      <td>...</td>\n",
       "      <td>...</td>\n",
       "      <td>...</td>\n",
       "      <td>...</td>\n",
       "      <td>...</td>\n",
       "      <td>...</td>\n",
       "    </tr>\n",
       "    <tr>\n",
       "      <th>4995</th>\n",
       "      <td>2.0</td>\n",
       "      <td>43.177521</td>\n",
       "      <td>30.339945</td>\n",
       "      <td>5.0</td>\n",
       "      <td>5.0</td>\n",
       "      <td>6.0</td>\n",
       "      <td>1962</td>\n",
       "      <td>0.069660</td>\n",
       "      <td>1</td>\n",
       "      <td>1</td>\n",
       "      <td>31</td>\n",
       "      <td>6119</td>\n",
       "      <td>4</td>\n",
       "      <td>1</td>\n",
       "      <td>2</td>\n",
       "      <td>59.0</td>\n",
       "      <td>0</td>\n",
       "      <td>3998.768555</td>\n",
       "      <td>186141.968750</td>\n",
       "    </tr>\n",
       "    <tr>\n",
       "      <th>4996</th>\n",
       "      <td>3.0</td>\n",
       "      <td>94.521461</td>\n",
       "      <td>84.521461</td>\n",
       "      <td>10.0</td>\n",
       "      <td>21.0</td>\n",
       "      <td>27.0</td>\n",
       "      <td>2018</td>\n",
       "      <td>0.060753</td>\n",
       "      <td>1</td>\n",
       "      <td>1</td>\n",
       "      <td>15</td>\n",
       "      <td>2787</td>\n",
       "      <td>2</td>\n",
       "      <td>0</td>\n",
       "      <td>7</td>\n",
       "      <td>26.0</td>\n",
       "      <td>0</td>\n",
       "      <td>4835.417969</td>\n",
       "      <td>193054.218750</td>\n",
       "    </tr>\n",
       "    <tr>\n",
       "      <th>4997</th>\n",
       "      <td>1.0</td>\n",
       "      <td>33.656723</td>\n",
       "      <td>19.003260</td>\n",
       "      <td>5.0</td>\n",
       "      <td>2.0</td>\n",
       "      <td>5.0</td>\n",
       "      <td>1966</td>\n",
       "      <td>0.038693</td>\n",
       "      <td>1</td>\n",
       "      <td>1</td>\n",
       "      <td>28</td>\n",
       "      <td>6533</td>\n",
       "      <td>1</td>\n",
       "      <td>2</td>\n",
       "      <td>5</td>\n",
       "      <td>57.0</td>\n",
       "      <td>0</td>\n",
       "      <td>4063.772461</td>\n",
       "      <td>179439.000000</td>\n",
       "    </tr>\n",
       "    <tr>\n",
       "      <th>4998</th>\n",
       "      <td>1.0</td>\n",
       "      <td>38.635155</td>\n",
       "      <td>20.976257</td>\n",
       "      <td>9.0</td>\n",
       "      <td>8.0</td>\n",
       "      <td>14.0</td>\n",
       "      <td>1970</td>\n",
       "      <td>0.089040</td>\n",
       "      <td>1</td>\n",
       "      <td>1</td>\n",
       "      <td>33</td>\n",
       "      <td>7976</td>\n",
       "      <td>5</td>\n",
       "      <td>0</td>\n",
       "      <td>11</td>\n",
       "      <td>42.0</td>\n",
       "      <td>0</td>\n",
       "      <td>4462.944824</td>\n",
       "      <td>192125.203125</td>\n",
       "    </tr>\n",
       "    <tr>\n",
       "      <th>4999</th>\n",
       "      <td>2.0</td>\n",
       "      <td>67.122742</td>\n",
       "      <td>33.944344</td>\n",
       "      <td>13.0</td>\n",
       "      <td>9.0</td>\n",
       "      <td>17.0</td>\n",
       "      <td>2009</td>\n",
       "      <td>0.194489</td>\n",
       "      <td>1</td>\n",
       "      <td>1</td>\n",
       "      <td>47</td>\n",
       "      <td>8004</td>\n",
       "      <td>3</td>\n",
       "      <td>3</td>\n",
       "      <td>5</td>\n",
       "      <td>119.0</td>\n",
       "      <td>1</td>\n",
       "      <td>4086.903564</td>\n",
       "      <td>228211.250000</td>\n",
       "    </tr>\n",
       "  </tbody>\n",
       "</table>\n",
       "<p>5000 rows × 19 columns</p>\n",
       "</div>"
      ],
      "text/plain": [
       "      Rooms     Square  LifeSquare  KitchenSquare  Floor  HouseFloor  \\\n",
       "0       1.0  36.847630   19.094183            5.0    5.0         9.0   \n",
       "1       1.0  42.568134   32.568134           10.0    7.0        17.0   \n",
       "2       2.0  59.463676   50.463676            9.0   19.0        19.0   \n",
       "3       3.0  49.646030   33.893826            6.0    2.0         2.0   \n",
       "4       1.0  53.837055   50.837055            3.0    8.0        17.0   \n",
       "...     ...        ...         ...            ...    ...         ...   \n",
       "4995    2.0  43.177521   30.339945            5.0    5.0         6.0   \n",
       "4996    3.0  94.521461   84.521461           10.0   21.0        27.0   \n",
       "4997    1.0  33.656723   19.003260            5.0    2.0         5.0   \n",
       "4998    1.0  38.635155   20.976257            9.0    8.0        14.0   \n",
       "4999    2.0  67.122742   33.944344           13.0    9.0        17.0   \n",
       "\n",
       "      HouseYear  Ecology_1  Ecology_2  Ecology_3  Social_1  Social_2  \\\n",
       "0          1970   0.036122          1          1        24      4378   \n",
       "1          2017   0.072158          1          1         2       629   \n",
       "2          1977   0.211401          1          1         9      1892   \n",
       "3          1965   0.014073          1          1         2       475   \n",
       "4          1977   0.309479          1          1        35      7715   \n",
       "...         ...        ...        ...        ...       ...       ...   \n",
       "4995       1962   0.069660          1          1        31      6119   \n",
       "4996       2018   0.060753          1          1        15      2787   \n",
       "4997       1966   0.038693          1          1        28      6533   \n",
       "4998       1970   0.089040          1          1        33      7976   \n",
       "4999       2009   0.194489          1          1        47      8004   \n",
       "\n",
       "      Social_3  Helthcare_2  Shops_1  DistrictSize  IsDistrictLarge  \\\n",
       "0            0            1        1          76.0                0   \n",
       "1            1            0        0         169.0                1   \n",
       "2            0            0        1         609.0                1   \n",
       "3            0            0        0         392.0                1   \n",
       "4            4            0        6          68.0                0   \n",
       "...        ...          ...      ...           ...              ...   \n",
       "4995         4            1        2          59.0                0   \n",
       "4996         2            0        7          26.0                0   \n",
       "4997         1            2        5          57.0                0   \n",
       "4998         5            0       11          42.0                0   \n",
       "4999         3            3        5         119.0                1   \n",
       "\n",
       "      MedSqPriceByDistrict  MedPriceByFloorYear  \n",
       "0              4541.313477        186141.968750  \n",
       "1              2733.378906        180042.906250  \n",
       "2              2703.307861        179235.484375  \n",
       "3              2219.800781        179439.000000  \n",
       "4              3354.030029        192125.203125  \n",
       "...                    ...                  ...  \n",
       "4995           3998.768555        186141.968750  \n",
       "4996           4835.417969        193054.218750  \n",
       "4997           4063.772461        179439.000000  \n",
       "4998           4462.944824        192125.203125  \n",
       "4999           4086.903564        228211.250000  \n",
       "\n",
       "[5000 rows x 19 columns]"
      ]
     },
     "execution_count": 93,
     "metadata": {},
     "output_type": "execute_result"
    }
   ],
   "source": [
    "test_df"
   ]
  },
  {
   "cell_type": "code",
   "execution_count": 94,
   "metadata": {},
   "outputs": [
    {
     "data": {
      "text/html": [
       "<div>\n",
       "<style scoped>\n",
       "    .dataframe tbody tr th:only-of-type {\n",
       "        vertical-align: middle;\n",
       "    }\n",
       "\n",
       "    .dataframe tbody tr th {\n",
       "        vertical-align: top;\n",
       "    }\n",
       "\n",
       "    .dataframe thead th {\n",
       "        text-align: right;\n",
       "    }\n",
       "</style>\n",
       "<table border=\"1\" class=\"dataframe\">\n",
       "  <thead>\n",
       "    <tr style=\"text-align: right;\">\n",
       "      <th></th>\n",
       "      <th>Id</th>\n",
       "      <th>Price</th>\n",
       "    </tr>\n",
       "  </thead>\n",
       "  <tbody>\n",
       "    <tr>\n",
       "      <th>0</th>\n",
       "      <td>4567</td>\n",
       "      <td>200000.0</td>\n",
       "    </tr>\n",
       "    <tr>\n",
       "      <th>1</th>\n",
       "      <td>5925</td>\n",
       "      <td>200000.0</td>\n",
       "    </tr>\n",
       "    <tr>\n",
       "      <th>2</th>\n",
       "      <td>960</td>\n",
       "      <td>200000.0</td>\n",
       "    </tr>\n",
       "    <tr>\n",
       "      <th>3</th>\n",
       "      <td>3848</td>\n",
       "      <td>200000.0</td>\n",
       "    </tr>\n",
       "    <tr>\n",
       "      <th>4</th>\n",
       "      <td>746</td>\n",
       "      <td>200000.0</td>\n",
       "    </tr>\n",
       "  </tbody>\n",
       "</table>\n",
       "</div>"
      ],
      "text/plain": [
       "     Id     Price\n",
       "0  4567  200000.0\n",
       "1  5925  200000.0\n",
       "2   960  200000.0\n",
       "3  3848  200000.0\n",
       "4   746  200000.0"
      ]
     },
     "execution_count": 94,
     "metadata": {},
     "output_type": "execute_result"
    }
   ],
   "source": [
    "submit = pd.read_csv('C:\\\\Users\\\\4а\\\\sample_submission.csv')\n",
    "submit.head()"
   ]
  },
  {
   "cell_type": "code",
   "execution_count": 95,
   "metadata": {},
   "outputs": [
    {
     "data": {
      "text/plain": [
       "array([153775.25515625, 122265.68742188, 140465.51210938, ...,\n",
       "       149020.23929687, 187659.9234375 , 267476.14984375])"
      ]
     },
     "execution_count": 95,
     "metadata": {},
     "output_type": "execute_result"
    }
   ],
   "source": [
    "predictions = rf_model.predict(test_df)\n",
    "predictions"
   ]
  },
  {
   "cell_type": "code",
   "execution_count": 96,
   "metadata": {},
   "outputs": [
    {
     "data": {
      "text/html": [
       "<div>\n",
       "<style scoped>\n",
       "    .dataframe tbody tr th:only-of-type {\n",
       "        vertical-align: middle;\n",
       "    }\n",
       "\n",
       "    .dataframe tbody tr th {\n",
       "        vertical-align: top;\n",
       "    }\n",
       "\n",
       "    .dataframe thead th {\n",
       "        text-align: right;\n",
       "    }\n",
       "</style>\n",
       "<table border=\"1\" class=\"dataframe\">\n",
       "  <thead>\n",
       "    <tr style=\"text-align: right;\">\n",
       "      <th></th>\n",
       "      <th>Id</th>\n",
       "      <th>Price</th>\n",
       "    </tr>\n",
       "  </thead>\n",
       "  <tbody>\n",
       "    <tr>\n",
       "      <th>0</th>\n",
       "      <td>4567</td>\n",
       "      <td>153775.255156</td>\n",
       "    </tr>\n",
       "    <tr>\n",
       "      <th>1</th>\n",
       "      <td>5925</td>\n",
       "      <td>122265.687422</td>\n",
       "    </tr>\n",
       "    <tr>\n",
       "      <th>2</th>\n",
       "      <td>960</td>\n",
       "      <td>140465.512109</td>\n",
       "    </tr>\n",
       "    <tr>\n",
       "      <th>3</th>\n",
       "      <td>3848</td>\n",
       "      <td>130969.624844</td>\n",
       "    </tr>\n",
       "    <tr>\n",
       "      <th>4</th>\n",
       "      <td>746</td>\n",
       "      <td>177477.703594</td>\n",
       "    </tr>\n",
       "  </tbody>\n",
       "</table>\n",
       "</div>"
      ],
      "text/plain": [
       "     Id          Price\n",
       "0  4567  153775.255156\n",
       "1  5925  122265.687422\n",
       "2   960  140465.512109\n",
       "3  3848  130969.624844\n",
       "4   746  177477.703594"
      ]
     },
     "execution_count": 96,
     "metadata": {},
     "output_type": "execute_result"
    }
   ],
   "source": [
    "submit['Price'] = predictions\n",
    "submit.head()"
   ]
  },
  {
   "cell_type": "code",
   "execution_count": 97,
   "metadata": {},
   "outputs": [],
   "source": [
    "submit.to_csv('COURSE_PROJECT_submit.csv', index=False)"
   ]
  }
 ],
 "metadata": {
  "kernelspec": {
   "display_name": "Python 3",
   "language": "python",
   "name": "python3"
  },
  "language_info": {
   "codemirror_mode": {
    "name": "ipython",
    "version": 3
   },
   "file_extension": ".py",
   "mimetype": "text/x-python",
   "name": "python",
   "nbconvert_exporter": "python",
   "pygments_lexer": "ipython3",
   "version": "3.8.5"
  }
 },
 "nbformat": 4,
 "nbformat_minor": 4
}
